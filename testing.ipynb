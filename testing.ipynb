{
 "cells": [
  {
   "cell_type": "code",
   "execution_count": 5,
   "metadata": {},
   "outputs": [],
   "source": [
    "import jax \n",
    "import scipy\n",
    "import jax.numpy as jnp\n",
    "import diffrax as dfx\n",
    "import optax as opx"
   ]
  },
  {
   "cell_type": "code",
   "execution_count": 6,
   "metadata": {},
   "outputs": [],
   "source": [
    "from simulation import generate_y0, simulate_pdu, measure_pdu\n",
    "from pdu_rhs import V_RATIO\n",
    "import numpy as np\n",
    "\n",
    "data_ICs = jnp.array([80, 0, 0, 0]) \n",
    "params = jnp.array([.5, .4, .8, .9, .6])\n",
    "y0 = generate_y0(params, data_ICs)\n",
    "\n",
    "t0 = 0.0\n",
    "t1 = 10.0*3600\n",
    "dt = 1e-2\n",
    "\n",
    "params = jnp.array([ .5, .4, .8, 1e8, 40, \\\n",
    "1e3, -3000, 100, 50, 200, 140, \\\n",
    "1e4, -5000, 40, 10, 100, 70, \\\n",
    "1e9,  -10000, 50, 85, \\\n",
    "1e9, -10000, 10, 100, \\\n",
    "-5, -6, \\\n",
    "-4, 1.2*V_RATIO])\n",
    "\n",
    "t_out, y_out = measure_pdu(simulate_pdu(params, y0, t0, t1, dt, KO=None))\n",
    "y_out_sim = y_out + np.random.normal(0, 1, y_out.shape)"
   ]
  },
  {
   "cell_type": "code",
   "execution_count": 7,
   "metadata": {},
   "outputs": [
    {
     "data": {
      "text/plain": [
       "Array(1.04712089, dtype=float64)"
      ]
     },
     "execution_count": 7,
     "metadata": {},
     "output_type": "execute_result"
    }
   ],
   "source": [
    "from objective import construct_loss, parameterize_loss, objective\n",
    "\n",
    "options = {\"loss_fn\": \"MSE\",\n",
    "           \"t_weight\": None,\n",
    "           \"weight\": None,\n",
    "           }\n",
    "\n",
    "loss_fn = construct_loss(options)\n",
    "loss_fn = parameterize_loss(y_out, t_out, loss_fn)\n",
    "\n",
    "loss_fn(y_out, y_out_sim)"
   ]
  },
  {
   "cell_type": "code",
   "execution_count": 8,
   "metadata": {},
   "outputs": [
    {
     "data": {
      "text/plain": [
       "Array(1.04712089, dtype=float64)"
      ]
     },
     "execution_count": 8,
     "metadata": {},
     "output_type": "execute_result"
    }
   ],
   "source": [
    "#objective_jit = jax.jit(objective, static_argnums=0)\n",
    "from collections import namedtuple\n",
    "\n",
    "KO = None\n",
    "objective(loss_fn, params, y_out_sim, t_out, dt, data_ICs, KO)"
   ]
  },
  {
   "cell_type": "code",
   "execution_count": 13,
   "metadata": {},
   "outputs": [
    {
     "data": {
      "text/plain": [
       "Array([1.04740582e+00, 1.04685095e+00, 1.56712577e+03], dtype=float64)"
      ]
     },
     "execution_count": 13,
     "metadata": {},
     "output_type": "execute_result"
    }
   ],
   "source": [
    "from run_adam_tune import run_adam_loop, batch_run_adam\n",
    "\n",
    "obj = lambda p : objective(loss_fn, p, y_out_sim, t_out, dt, data_ICs, KO)\n",
    "\n",
    "batch_run_adam(jnp.array([1.01*params, 1.0001*params, 2*params]), 1e-3, .9, .999, 100, obj)"
   ]
  },
  {
   "cell_type": "code",
   "execution_count": 14,
   "metadata": {},
   "outputs": [],
   "source": [
    "from lhs_sampling import lh_samples"
   ]
  },
  {
   "cell_type": "code",
   "execution_count": 18,
   "metadata": {},
   "outputs": [
    {
     "data": {
      "text/plain": [
       "Array([1179.88251476, 1119.48839873,  383.26850638,  833.74952948,\n",
       "         43.1409696 ], dtype=float64)"
      ]
     },
     "execution_count": 18,
     "metadata": {},
     "output_type": "execute_result"
    }
   ],
   "source": [
    "pars = lh_samples(100)[50:55]\n",
    "batch_run_adam(pars, 1e-3, .9, .999, 100, obj)"
   ]
  }
 ],
 "metadata": {
  "kernelspec": {
   "display_name": "pdu_fit",
   "language": "python",
   "name": "python3"
  },
  "language_info": {
   "codemirror_mode": {
    "name": "ipython",
    "version": 3
   },
   "file_extension": ".py",
   "mimetype": "text/x-python",
   "name": "python",
   "nbconvert_exporter": "python",
   "pygments_lexer": "ipython3",
   "version": "3.13.2"
  }
 },
 "nbformat": 4,
 "nbformat_minor": 2
}
