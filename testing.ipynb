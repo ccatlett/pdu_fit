{
 "cells": [
  {
   "cell_type": "code",
   "execution_count": 1,
   "metadata": {},
   "outputs": [],
   "source": [
    "import jax \n",
    "import scipy\n",
    "import jax.numpy as jnp\n",
    "import diffrax as dfx\n",
    "import optax as opx"
   ]
  },
  {
   "cell_type": "code",
   "execution_count": 2,
   "metadata": {},
   "outputs": [
    {
     "ename": "ValueError",
     "evalue": "Terms are not compatible with solver! Got:\nODETerm(vector_field=<PjitFunction of <function pdu_rhs at 0x11c061080>>)\nbut expected:\ndiffrax.AbstractTerm\nNote that terms are checked recursively: if you scroll up you may find a root-cause error that is more specific.",
     "output_type": "error",
     "traceback": [
      "\u001b[31m---------------------------------------------------------------------------\u001b[39m",
      "\u001b[31mTypeError\u001b[39m                                 Traceback (most recent call last)",
      "\u001b[36mFile \u001b[39m\u001b[32m~/.pyenv/versions/anaconda3-2024.10-1/envs/pdu_fit/lib/python3.13/site-packages/diffrax/_integrate.py:170\u001b[39m, in \u001b[36m_assert_term_compatible.<locals>._check\u001b[39m\u001b[34m(term_cls, term, term_contr_kwargs, yi)\u001b[39m\n\u001b[32m    169\u001b[39m \u001b[38;5;28;01mtry\u001b[39;00m:\n\u001b[32m--> \u001b[39m\u001b[32m170\u001b[39m     vf_type = \u001b[43meqx\u001b[49m\u001b[43m.\u001b[49m\u001b[43mfilter_eval_shape\u001b[49m\u001b[43m(\u001b[49m\u001b[43mterm\u001b[49m\u001b[43m.\u001b[49m\u001b[43mvf\u001b[49m\u001b[43m,\u001b[49m\u001b[43m \u001b[49m\u001b[43mt\u001b[49m\u001b[43m,\u001b[49m\u001b[43m \u001b[49m\u001b[43myi\u001b[49m\u001b[43m,\u001b[49m\u001b[43m \u001b[49m\u001b[43margs\u001b[49m\u001b[43m)\u001b[49m\n\u001b[32m    171\u001b[39m \u001b[38;5;28;01mexcept\u001b[39;00m \u001b[38;5;167;01mException\u001b[39;00m \u001b[38;5;28;01mas\u001b[39;00m e:\n",
      "\u001b[36mFile \u001b[39m\u001b[32m~/.pyenv/versions/anaconda3-2024.10-1/envs/pdu_fit/lib/python3.13/site-packages/equinox/_eval_shape.py:38\u001b[39m, in \u001b[36mfilter_eval_shape\u001b[39m\u001b[34m(fun, *args, **kwargs)\u001b[39m\n\u001b[32m     37\u001b[39m dynamic, static = partition((fun, args, kwargs), _filter)\n\u001b[32m---> \u001b[39m\u001b[32m38\u001b[39m dynamic_out, static_out = \u001b[43mjax\u001b[49m\u001b[43m.\u001b[49m\u001b[43meval_shape\u001b[49m\u001b[43m(\u001b[49m\u001b[43mft\u001b[49m\u001b[43m.\u001b[49m\u001b[43mpartial\u001b[49m\u001b[43m(\u001b[49m\u001b[43m_fn\u001b[49m\u001b[43m,\u001b[49m\u001b[43m \u001b[49m\u001b[43mstatic\u001b[49m\u001b[43m)\u001b[49m\u001b[43m,\u001b[49m\u001b[43m \u001b[49m\u001b[43mdynamic\u001b[49m\u001b[43m)\u001b[49m\n\u001b[32m     39\u001b[39m \u001b[38;5;28;01mreturn\u001b[39;00m combine(dynamic_out, static_out.value)\n",
      "    \u001b[31m[... skipping hidden 1 frame]\u001b[39m\n",
      "\u001b[36mFile \u001b[39m\u001b[32m~/.pyenv/versions/anaconda3-2024.10-1/envs/pdu_fit/lib/python3.13/site-packages/jax/_src/api.py:2719\u001b[39m, in \u001b[36meval_shape\u001b[39m\u001b[34m(fun, *args, **kwargs)\u001b[39m\n\u001b[32m   2718\u001b[39m \u001b[38;5;28;01mexcept\u001b[39;00m \u001b[38;5;167;01mTypeError\u001b[39;00m: fun = partial(fun)\n\u001b[32m-> \u001b[39m\u001b[32m2719\u001b[39m \u001b[38;5;28;01mreturn\u001b[39;00m \u001b[43mjit\u001b[49m\u001b[43m(\u001b[49m\u001b[43mfun\u001b[49m\u001b[43m)\u001b[49m\u001b[43m.\u001b[49m\u001b[43meval_shape\u001b[49m\u001b[43m(\u001b[49m\u001b[43m*\u001b[49m\u001b[43margs\u001b[49m\u001b[43m,\u001b[49m\u001b[43m \u001b[49m\u001b[43m*\u001b[49m\u001b[43m*\u001b[49m\u001b[43mkwargs\u001b[49m\u001b[43m)\u001b[49m\n",
      "    \u001b[31m[... skipping hidden 1 frame]\u001b[39m\n",
      "\u001b[36mFile \u001b[39m\u001b[32m~/.pyenv/versions/anaconda3-2024.10-1/envs/pdu_fit/lib/python3.13/site-packages/jax/_src/pjit.py:488\u001b[39m, in \u001b[36m_make_jit_wrapper.<locals>.eval_shape\u001b[39m\u001b[34m(*args, **kwargs)\u001b[39m\n\u001b[32m    486\u001b[39m \u001b[38;5;129m@api_boundary\u001b[39m\n\u001b[32m    487\u001b[39m \u001b[38;5;28;01mdef\u001b[39;00m\u001b[38;5;250m \u001b[39m\u001b[34meval_shape\u001b[39m(*args, **kwargs):\n\u001b[32m--> \u001b[39m\u001b[32m488\u001b[39m   p, _ = \u001b[43m_infer_params\u001b[49m\u001b[43m(\u001b[49m\u001b[43mfun\u001b[49m\u001b[43m,\u001b[49m\u001b[43m \u001b[49m\u001b[43mjit_info\u001b[49m\u001b[43m,\u001b[49m\u001b[43m \u001b[49m\u001b[43margs\u001b[49m\u001b[43m,\u001b[49m\u001b[43m \u001b[49m\u001b[43mkwargs\u001b[49m\u001b[43m)\u001b[49m\n\u001b[32m    489\u001b[39m   out_s = [\u001b[38;5;28;01mNone\u001b[39;00m \u001b[38;5;28;01mif\u001b[39;00m \u001b[38;5;28misinstance\u001b[39m(s, UnspecifiedValue) \u001b[38;5;28;01melse\u001b[39;00m s \u001b[38;5;28;01mfor\u001b[39;00m s \u001b[38;5;129;01min\u001b[39;00m p.params[\u001b[33m'\u001b[39m\u001b[33mout_shardings\u001b[39m\u001b[33m'\u001b[39m]]\n",
      "\u001b[36mFile \u001b[39m\u001b[32m~/.pyenv/versions/anaconda3-2024.10-1/envs/pdu_fit/lib/python3.13/site-packages/jax/_src/pjit.py:695\u001b[39m, in \u001b[36m_infer_params\u001b[39m\u001b[34m(fun, ji, args, kwargs)\u001b[39m\n\u001b[32m    694\u001b[39m     \u001b[38;5;28;01mreturn\u001b[39;00m _infer_params_internal(fun, ji, args, kwargs)\n\u001b[32m--> \u001b[39m\u001b[32m695\u001b[39m \u001b[38;5;28;01mreturn\u001b[39;00m \u001b[43m_infer_params_internal\u001b[49m\u001b[43m(\u001b[49m\u001b[43mfun\u001b[49m\u001b[43m,\u001b[49m\u001b[43m \u001b[49m\u001b[43mji\u001b[49m\u001b[43m,\u001b[49m\u001b[43m \u001b[49m\u001b[43margs\u001b[49m\u001b[43m,\u001b[49m\u001b[43m \u001b[49m\u001b[43mkwargs\u001b[49m\u001b[43m)\u001b[49m\n",
      "\u001b[36mFile \u001b[39m\u001b[32m~/.pyenv/versions/anaconda3-2024.10-1/envs/pdu_fit/lib/python3.13/site-packages/jax/_src/pjit.py:718\u001b[39m, in \u001b[36m_infer_params_internal\u001b[39m\u001b[34m(fun, ji, args, kwargs)\u001b[39m\n\u001b[32m    717\u001b[39m \u001b[38;5;28;01mif\u001b[39;00m entry.pjit_params \u001b[38;5;129;01mis\u001b[39;00m \u001b[38;5;28;01mNone\u001b[39;00m:\n\u001b[32m--> \u001b[39m\u001b[32m718\u001b[39m   p, args_flat = \u001b[43m_infer_params_impl\u001b[49m\u001b[43m(\u001b[49m\n\u001b[32m    719\u001b[39m \u001b[43m      \u001b[49m\u001b[43mfun\u001b[49m\u001b[43m,\u001b[49m\u001b[43m \u001b[49m\u001b[43mji\u001b[49m\u001b[43m,\u001b[49m\u001b[43m \u001b[49m\u001b[43mctx_mesh\u001b[49m\u001b[43m,\u001b[49m\u001b[43m \u001b[49m\u001b[43mdbg\u001b[49m\u001b[43m,\u001b[49m\u001b[43m \u001b[49m\u001b[43margs\u001b[49m\u001b[43m,\u001b[49m\u001b[43m \u001b[49m\u001b[43mkwargs\u001b[49m\u001b[43m,\u001b[49m\u001b[43m \u001b[49m\u001b[43min_avals\u001b[49m\u001b[43m=\u001b[49m\u001b[43mavals\u001b[49m\u001b[43m)\u001b[49m\n\u001b[32m    720\u001b[39m   \u001b[38;5;28;01mif\u001b[39;00m p.attrs_tracked:  \u001b[38;5;66;03m# if attrs, don't popoulate the cache\u001b[39;00m\n",
      "\u001b[36mFile \u001b[39m\u001b[32m~/.pyenv/versions/anaconda3-2024.10-1/envs/pdu_fit/lib/python3.13/site-packages/jax/_src/pjit.py:618\u001b[39m, in \u001b[36m_infer_params_impl\u001b[39m\u001b[34m(***failed resolving arguments***)\u001b[39m\n\u001b[32m    616\u001b[39m attr_token = _attr_token(flat_fun, in_type)\n\u001b[32m--> \u001b[39m\u001b[32m618\u001b[39m jaxpr, consts, out_avals, attrs_tracked = \u001b[43m_create_pjit_jaxpr\u001b[49m\u001b[43m(\u001b[49m\n\u001b[32m    619\u001b[39m \u001b[43m    \u001b[49m\u001b[43mflat_fun\u001b[49m\u001b[43m,\u001b[49m\u001b[43m \u001b[49m\u001b[43min_type\u001b[49m\u001b[43m,\u001b[49m\u001b[43m \u001b[49m\u001b[43mattr_token\u001b[49m\u001b[43m,\u001b[49m\u001b[43m \u001b[49m\u001b[43mIgnoreKey\u001b[49m\u001b[43m(\u001b[49m\u001b[43mji\u001b[49m\u001b[43m.\u001b[49m\u001b[43minline\u001b[49m\u001b[43m)\u001b[49m\u001b[43m)\u001b[49m\n\u001b[32m    621\u001b[39m \u001b[38;5;28;01mif\u001b[39;00m config.mutable_array_checks.value:\n",
      "\u001b[36mFile \u001b[39m\u001b[32m~/.pyenv/versions/anaconda3-2024.10-1/envs/pdu_fit/lib/python3.13/site-packages/jax/_src/linear_util.py:460\u001b[39m, in \u001b[36mcache.<locals>.memoized_fun\u001b[39m\u001b[34m(fun, *args)\u001b[39m\n\u001b[32m    459\u001b[39m \u001b[38;5;28;01melse\u001b[39;00m:\n\u001b[32m--> \u001b[39m\u001b[32m460\u001b[39m   ans = \u001b[43mcall\u001b[49m\u001b[43m(\u001b[49m\u001b[43mfun\u001b[49m\u001b[43m,\u001b[49m\u001b[43m \u001b[49m\u001b[43m*\u001b[49m\u001b[43margs\u001b[49m\u001b[43m)\u001b[49m\n\u001b[32m    461\u001b[39m   \u001b[38;5;28;01mif\u001b[39;00m explain \u001b[38;5;129;01mand\u001b[39;00m config.explain_cache_misses.value:\n",
      "\u001b[36mFile \u001b[39m\u001b[32m~/.pyenv/versions/anaconda3-2024.10-1/envs/pdu_fit/lib/python3.13/site-packages/jax/_src/pjit.py:1289\u001b[39m, in \u001b[36m_create_pjit_jaxpr\u001b[39m\u001b[34m(***failed resolving arguments***)\u001b[39m\n\u001b[32m   1288\u001b[39m \u001b[38;5;28;01melse\u001b[39;00m:\n\u001b[32m-> \u001b[39m\u001b[32m1289\u001b[39m   jaxpr, global_out_avals, consts, attrs_tracked = \u001b[43mpe\u001b[49m\u001b[43m.\u001b[49m\u001b[43mtrace_to_jaxpr_dynamic\u001b[49m\u001b[43m(\u001b[49m\n\u001b[32m   1290\u001b[39m \u001b[43m      \u001b[49m\u001b[43mfun\u001b[49m\u001b[43m,\u001b[49m\u001b[43m \u001b[49m\u001b[43min_type\u001b[49m\u001b[43m)\u001b[49m\n\u001b[32m   1291\u001b[39m   \u001b[38;5;66;03m# assert attr_data is sentinel or attr_data matches attrs_tracked\u001b[39;00m\n",
      "\u001b[36mFile \u001b[39m\u001b[32m~/.pyenv/versions/anaconda3-2024.10-1/envs/pdu_fit/lib/python3.13/site-packages/jax/_src/profiler.py:334\u001b[39m, in \u001b[36mannotate_function.<locals>.wrapper\u001b[39m\u001b[34m(*args, **kwargs)\u001b[39m\n\u001b[32m    333\u001b[39m \u001b[38;5;28;01mwith\u001b[39;00m TraceAnnotation(name, **decorator_kwargs):\n\u001b[32m--> \u001b[39m\u001b[32m334\u001b[39m   \u001b[38;5;28;01mreturn\u001b[39;00m \u001b[43mfunc\u001b[49m\u001b[43m(\u001b[49m\u001b[43m*\u001b[49m\u001b[43margs\u001b[49m\u001b[43m,\u001b[49m\u001b[43m \u001b[49m\u001b[43m*\u001b[49m\u001b[43m*\u001b[49m\u001b[43mkwargs\u001b[49m\u001b[43m)\u001b[49m\n\u001b[32m    335\u001b[39m \u001b[38;5;28;01mreturn\u001b[39;00m wrapper\n",
      "\u001b[36mFile \u001b[39m\u001b[32m~/.pyenv/versions/anaconda3-2024.10-1/envs/pdu_fit/lib/python3.13/site-packages/jax/_src/interpreters/partial_eval.py:2181\u001b[39m, in \u001b[36mtrace_to_jaxpr_dynamic\u001b[39m\u001b[34m(fun, in_avals, keep_inputs)\u001b[39m\n\u001b[32m   2180\u001b[39m \u001b[38;5;28;01mwith\u001b[39;00m core.set_current_trace(trace):\n\u001b[32m-> \u001b[39m\u001b[32m2181\u001b[39m   ans = \u001b[43mfun\u001b[49m\u001b[43m.\u001b[49m\u001b[43mcall_wrapped\u001b[49m\u001b[43m(\u001b[49m\u001b[43m*\u001b[49m\u001b[43min_tracers\u001b[49m\u001b[43m)\u001b[49m\n\u001b[32m   2183\u001b[39m out_tracers = \u001b[38;5;28mmap\u001b[39m(trace.to_jaxpr_tracer, ans)\n",
      "\u001b[36mFile \u001b[39m\u001b[32m~/.pyenv/versions/anaconda3-2024.10-1/envs/pdu_fit/lib/python3.13/site-packages/jax/_src/linear_util.py:210\u001b[39m, in \u001b[36mWrappedFun.call_wrapped\u001b[39m\u001b[34m(self, *args, **kwargs)\u001b[39m\n\u001b[32m    209\u001b[39m \u001b[38;5;250m\u001b[39m\u001b[33;03m\"\"\"Calls the transformed function\"\"\"\u001b[39;00m\n\u001b[32m--> \u001b[39m\u001b[32m210\u001b[39m \u001b[38;5;28;01mreturn\u001b[39;00m \u001b[38;5;28;43mself\u001b[39;49m\u001b[43m.\u001b[49m\u001b[43mf_transformed\u001b[49m\u001b[43m(\u001b[49m\u001b[43m*\u001b[49m\u001b[43margs\u001b[49m\u001b[43m,\u001b[49m\u001b[43m \u001b[49m\u001b[43m*\u001b[49m\u001b[43m*\u001b[49m\u001b[43mkwargs\u001b[49m\u001b[43m)\u001b[49m\n",
      "\u001b[36mFile \u001b[39m\u001b[32m~/.pyenv/versions/anaconda3-2024.10-1/envs/pdu_fit/lib/python3.13/site-packages/jax/_src/api_util.py:284\u001b[39m, in \u001b[36m_argnums_partial\u001b[39m\u001b[34m(_fun, _dyn_argnums, _fixed_args, *dyn_args, **kwargs)\u001b[39m\n\u001b[32m    283\u001b[39m \u001b[38;5;28;01massert\u001b[39;00m \u001b[38;5;28mnext\u001b[39m(fixed_args_, sentinel) \u001b[38;5;129;01mis\u001b[39;00m sentinel\n\u001b[32m--> \u001b[39m\u001b[32m284\u001b[39m \u001b[38;5;28;01mreturn\u001b[39;00m \u001b[43m_fun\u001b[49m\u001b[43m(\u001b[49m\u001b[43m*\u001b[49m\u001b[43margs\u001b[49m\u001b[43m,\u001b[49m\u001b[43m \u001b[49m\u001b[43m*\u001b[49m\u001b[43m*\u001b[49m\u001b[43mkwargs\u001b[49m\u001b[43m)\u001b[49m\n",
      "\u001b[36mFile \u001b[39m\u001b[32m~/.pyenv/versions/anaconda3-2024.10-1/envs/pdu_fit/lib/python3.13/site-packages/jax/_src/api_util.py:73\u001b[39m, in \u001b[36mflatten_fun\u001b[39m\u001b[34m(f, store, in_tree, *args_flat)\u001b[39m\n\u001b[32m     72\u001b[39m py_args, py_kwargs = tree_unflatten(in_tree, args_flat)\n\u001b[32m---> \u001b[39m\u001b[32m73\u001b[39m ans = \u001b[43mf\u001b[49m\u001b[43m(\u001b[49m\u001b[43m*\u001b[49m\u001b[43mpy_args\u001b[49m\u001b[43m,\u001b[49m\u001b[43m \u001b[49m\u001b[43m*\u001b[49m\u001b[43m*\u001b[49m\u001b[43mpy_kwargs\u001b[49m\u001b[43m)\u001b[49m\n\u001b[32m     74\u001b[39m ans, out_tree = tree_flatten(ans)\n",
      "\u001b[36mFile \u001b[39m\u001b[32m~/.pyenv/versions/anaconda3-2024.10-1/envs/pdu_fit/lib/python3.13/site-packages/jax/_src/linear_util.py:388\u001b[39m, in \u001b[36m_get_result_paths_thunk\u001b[39m\u001b[34m(_fun, _store, *args, **kwargs)\u001b[39m\n\u001b[32m    386\u001b[39m \u001b[38;5;129m@transformation_with_aux2\u001b[39m\n\u001b[32m    387\u001b[39m \u001b[38;5;28;01mdef\u001b[39;00m\u001b[38;5;250m \u001b[39m\u001b[34m_get_result_paths_thunk\u001b[39m(_fun: Callable, _store: Store, *args, **kwargs):\n\u001b[32m--> \u001b[39m\u001b[32m388\u001b[39m   ans = \u001b[43m_fun\u001b[49m\u001b[43m(\u001b[49m\u001b[43m*\u001b[49m\u001b[43margs\u001b[49m\u001b[43m,\u001b[49m\u001b[43m \u001b[49m\u001b[43m*\u001b[49m\u001b[43m*\u001b[49m\u001b[43mkwargs\u001b[49m\u001b[43m)\u001b[49m\n\u001b[32m    389\u001b[39m   result_paths = \u001b[38;5;28mtuple\u001b[39m(\u001b[33mf\u001b[39m\u001b[33m\"\u001b[39m\u001b[33mresult\u001b[39m\u001b[38;5;132;01m{\u001b[39;00m_clean_keystr_arg_names(path)\u001b[38;5;132;01m}\u001b[39;00m\u001b[33m\"\u001b[39m \u001b[38;5;28;01mfor\u001b[39;00m path, _ \u001b[38;5;129;01min\u001b[39;00m generate_key_paths(ans))\n",
      "\u001b[36mFile \u001b[39m\u001b[32m~/.pyenv/versions/anaconda3-2024.10-1/envs/pdu_fit/lib/python3.13/site-packages/equinox/_eval_shape.py:33\u001b[39m, in \u001b[36mfilter_eval_shape.<locals>._fn\u001b[39m\u001b[34m(_static, _dynamic)\u001b[39m\n\u001b[32m     32\u001b[39m _fun, _args, _kwargs = combine(_static, _dynamic)\n\u001b[32m---> \u001b[39m\u001b[32m33\u001b[39m _out = \u001b[43m_fun\u001b[49m\u001b[43m(\u001b[49m\u001b[43m*\u001b[49m\u001b[43m_args\u001b[49m\u001b[43m,\u001b[49m\u001b[43m \u001b[49m\u001b[43m*\u001b[49m\u001b[43m*\u001b[49m\u001b[43m_kwargs\u001b[49m\u001b[43m)\u001b[49m\n\u001b[32m     34\u001b[39m _dynamic_out, _static_out = partition(_out, _filter)\n",
      "    \u001b[31m[... skipping hidden 1 frame]\u001b[39m\n",
      "\u001b[36mFile \u001b[39m\u001b[32m~/.pyenv/versions/anaconda3-2024.10-1/envs/pdu_fit/lib/python3.13/site-packages/diffrax/_term.py:194\u001b[39m, in \u001b[36mODETerm.vf\u001b[39m\u001b[34m(self, t, y, args)\u001b[39m\n\u001b[32m    193\u001b[39m \u001b[38;5;28;01mdef\u001b[39;00m\u001b[38;5;250m \u001b[39m\u001b[34mvf\u001b[39m(\u001b[38;5;28mself\u001b[39m, t: RealScalarLike, y: Y, args: Args) -> _VF:\n\u001b[32m--> \u001b[39m\u001b[32m194\u001b[39m     out = \u001b[38;5;28;43mself\u001b[39;49m\u001b[43m.\u001b[49m\u001b[43mvector_field\u001b[49m\u001b[43m(\u001b[49m\u001b[43mt\u001b[49m\u001b[43m,\u001b[49m\u001b[43m \u001b[49m\u001b[43my\u001b[49m\u001b[43m,\u001b[49m\u001b[43m \u001b[49m\u001b[43margs\u001b[49m\u001b[43m)\u001b[49m\n\u001b[32m    195\u001b[39m     \u001b[38;5;28;01mif\u001b[39;00m jtu.tree_structure(out) != jtu.tree_structure(y):\n",
      "    \u001b[31m[... skipping hidden 1 frame]\u001b[39m\n",
      "\u001b[36mFile \u001b[39m\u001b[32m~/.pyenv/versions/anaconda3-2024.10-1/envs/pdu_fit/lib/python3.13/site-packages/jax/_src/pjit.py:339\u001b[39m, in \u001b[36m_cpp_pjit.<locals>.cache_miss\u001b[39m\u001b[34m(*args, **kwargs)\u001b[39m\n\u001b[32m    335\u001b[39m   \u001b[38;5;28;01mraise\u001b[39;00m \u001b[38;5;167;01mRuntimeError\u001b[39;00m(\u001b[33mf\u001b[39m\u001b[33m\"\u001b[39m\u001b[33mre-tracing function \u001b[39m\u001b[38;5;132;01m{\u001b[39;00mjit_info.fun_sourceinfo\u001b[38;5;132;01m}\u001b[39;00m\u001b[33m for \u001b[39m\u001b[33m\"\u001b[39m\n\u001b[32m    336\u001b[39m                      \u001b[33m\"\u001b[39m\u001b[33m`jit`, but \u001b[39m\u001b[33m'\u001b[39m\u001b[33mno_tracing\u001b[39m\u001b[33m'\u001b[39m\u001b[33m is set\u001b[39m\u001b[33m\"\u001b[39m)\n\u001b[32m    338\u001b[39m (outs, out_flat, out_tree, args_flat, jaxpr, attrs_tracked, executable,\n\u001b[32m--> \u001b[39m\u001b[32m339\u001b[39m  pgle_profiler) = \u001b[43m_python_pjit_helper\u001b[49m\u001b[43m(\u001b[49m\u001b[43mfun\u001b[49m\u001b[43m,\u001b[49m\u001b[43m \u001b[49m\u001b[43mjit_info\u001b[49m\u001b[43m,\u001b[49m\u001b[43m \u001b[49m\u001b[43m*\u001b[49m\u001b[43margs\u001b[49m\u001b[43m,\u001b[49m\u001b[43m \u001b[49m\u001b[43m*\u001b[49m\u001b[43m*\u001b[49m\u001b[43mkwargs\u001b[49m\u001b[43m)\u001b[49m\n\u001b[32m    341\u001b[39m maybe_fastpath_data = _get_fastpath_data(\n\u001b[32m    342\u001b[39m     executable, out_tree, args_flat, out_flat, attrs_tracked, jaxpr.effects,\n\u001b[32m    343\u001b[39m     jaxpr.consts, jit_info.abstracted_axes,\n\u001b[32m    344\u001b[39m     pgle_profiler)\n",
      "\u001b[36mFile \u001b[39m\u001b[32m~/.pyenv/versions/anaconda3-2024.10-1/envs/pdu_fit/lib/python3.13/site-packages/jax/_src/pjit.py:179\u001b[39m, in \u001b[36m_python_pjit_helper\u001b[39m\u001b[34m(fun, jit_info, *args, **kwargs)\u001b[39m\n\u001b[32m    178\u001b[39m \u001b[38;5;28;01mdef\u001b[39;00m\u001b[38;5;250m \u001b[39m\u001b[34m_python_pjit_helper\u001b[39m(fun: Callable, jit_info: PjitInfo, *args, **kwargs):\n\u001b[32m--> \u001b[39m\u001b[32m179\u001b[39m   p, args_flat = \u001b[43m_infer_params\u001b[49m\u001b[43m(\u001b[49m\u001b[43mfun\u001b[49m\u001b[43m,\u001b[49m\u001b[43m \u001b[49m\u001b[43mjit_info\u001b[49m\u001b[43m,\u001b[49m\u001b[43m \u001b[49m\u001b[43margs\u001b[49m\u001b[43m,\u001b[49m\u001b[43m \u001b[49m\u001b[43mkwargs\u001b[49m\u001b[43m)\u001b[49m\n\u001b[32m    181\u001b[39m   \u001b[38;5;28;01mfor\u001b[39;00m arg \u001b[38;5;129;01min\u001b[39;00m args_flat:\n",
      "\u001b[36mFile \u001b[39m\u001b[32m~/.pyenv/versions/anaconda3-2024.10-1/envs/pdu_fit/lib/python3.13/site-packages/jax/_src/pjit.py:695\u001b[39m, in \u001b[36m_infer_params\u001b[39m\u001b[34m(fun, ji, args, kwargs)\u001b[39m\n\u001b[32m    694\u001b[39m     \u001b[38;5;28;01mreturn\u001b[39;00m _infer_params_internal(fun, ji, args, kwargs)\n\u001b[32m--> \u001b[39m\u001b[32m695\u001b[39m \u001b[38;5;28;01mreturn\u001b[39;00m \u001b[43m_infer_params_internal\u001b[49m\u001b[43m(\u001b[49m\u001b[43mfun\u001b[49m\u001b[43m,\u001b[49m\u001b[43m \u001b[49m\u001b[43mji\u001b[49m\u001b[43m,\u001b[49m\u001b[43m \u001b[49m\u001b[43margs\u001b[49m\u001b[43m,\u001b[49m\u001b[43m \u001b[49m\u001b[43mkwargs\u001b[49m\u001b[43m)\u001b[49m\n",
      "\u001b[36mFile \u001b[39m\u001b[32m~/.pyenv/versions/anaconda3-2024.10-1/envs/pdu_fit/lib/python3.13/site-packages/jax/_src/pjit.py:714\u001b[39m, in \u001b[36m_infer_params_internal\u001b[39m\u001b[34m(fun, ji, args, kwargs)\u001b[39m\n\u001b[32m    711\u001b[39m signature, dynargs = jax_jit.parse_arguments(\n\u001b[32m    712\u001b[39m     args, \u001b[38;5;28mtuple\u001b[39m(kwargs.values()), \u001b[38;5;28mtuple\u001b[39m(kwargs.keys()), ji.static_argnums,\n\u001b[32m    713\u001b[39m     ji.static_argnames, tree_util.default_registry)\n\u001b[32m--> \u001b[39m\u001b[32m714\u001b[39m avals = \u001b[43m_infer_input_type\u001b[49m\u001b[43m(\u001b[49m\u001b[43mfun\u001b[49m\u001b[43m,\u001b[49m\u001b[43m \u001b[49m\u001b[43mdbg\u001b[49m\u001b[43m,\u001b[49m\u001b[43m \u001b[49m\u001b[43mdynargs\u001b[49m\u001b[43m)\u001b[49m\n\u001b[32m    715\u001b[39m entry = _infer_params_cached(fun, ji, signature, avals, ctx_mesh)\n",
      "\u001b[36mFile \u001b[39m\u001b[32m~/.pyenv/versions/anaconda3-2024.10-1/envs/pdu_fit/lib/python3.13/site-packages/jax/_src/pjit.py:739\u001b[39m, in \u001b[36m_infer_input_type\u001b[39m\u001b[34m(fun, dbg, explicit_args)\u001b[39m\n\u001b[32m    738\u001b[39m   arg_description = \u001b[33mf\u001b[39m\u001b[33m\"\u001b[39m\u001b[33mpath \u001b[39m\u001b[38;5;132;01m{\u001b[39;00mdbg.arg_names[i]\u001b[38;5;132;01m}\u001b[39;00m\u001b[33m\"\u001b[39m\n\u001b[32m--> \u001b[39m\u001b[32m739\u001b[39m   \u001b[38;5;28;01mraise\u001b[39;00m \u001b[38;5;167;01mTypeError\u001b[39;00m(\n\u001b[32m    740\u001b[39m     \u001b[33mf\u001b[39m\u001b[33m\"\u001b[39m\u001b[33mError interpreting argument to \u001b[39m\u001b[38;5;132;01m{\u001b[39;00mfun\u001b[38;5;132;01m}\u001b[39;00m\u001b[33m as an abstract array.\u001b[39m\u001b[33m\"\u001b[39m\n\u001b[32m    741\u001b[39m     \u001b[33mf\u001b[39m\u001b[33m\"\u001b[39m\u001b[33m The problematic value is of type \u001b[39m\u001b[38;5;132;01m{\u001b[39;00m\u001b[38;5;28mtype\u001b[39m(x)\u001b[38;5;132;01m}\u001b[39;00m\u001b[33m and was passed to\u001b[39m\u001b[33m\"\u001b[39m\n\u001b[32m    742\u001b[39m     \u001b[33mf\u001b[39m\u001b[33m\"\u001b[39m\u001b[33m the function at \u001b[39m\u001b[38;5;132;01m{\u001b[39;00marg_description\u001b[38;5;132;01m}\u001b[39;00m\u001b[33m.\u001b[39m\u001b[38;5;130;01m\\n\u001b[39;00m\u001b[33m\"\u001b[39m\n\u001b[32m    743\u001b[39m     \u001b[33m\"\u001b[39m\u001b[33mThis typically means that a jit-wrapped function was called with a non-array\u001b[39m\u001b[33m\"\u001b[39m\n\u001b[32m    744\u001b[39m     \u001b[33m\"\u001b[39m\u001b[33m argument, and this argument was not marked as static using the\u001b[39m\u001b[33m\"\u001b[39m\n\u001b[32m    745\u001b[39m     \u001b[33m\"\u001b[39m\u001b[33m static_argnums or static_argnames parameters of jax.jit.\u001b[39m\u001b[33m\"\u001b[39m\n\u001b[32m    746\u001b[39m   ) \u001b[38;5;28;01mfrom\u001b[39;00m\u001b[38;5;250m \u001b[39m\u001b[38;5;28;01mNone\u001b[39;00m\n\u001b[32m    747\u001b[39m \u001b[38;5;28;01mif\u001b[39;00m config.mutable_array_checks.value:\n",
      "\u001b[31mTypeError\u001b[39m: Error interpreting argument to <function pdu_rhs at 0x11c061080> as an abstract array. The problematic value is of type <class 'str'> and was passed to the function at path args[1].\nThis typically means that a jit-wrapped function was called with a non-array argument, and this argument was not marked as static using the static_argnums or static_argnames parameters of jax.jit.",
      "\nDuring handling of the above exception, another exception occurred:\n",
      "\u001b[31mValueError\u001b[39m                                Traceback (most recent call last)",
      "\u001b[36mFile \u001b[39m\u001b[32m~/.pyenv/versions/anaconda3-2024.10-1/envs/pdu_fit/lib/python3.13/site-packages/diffrax/_integrate.py:200\u001b[39m, in \u001b[36m_assert_term_compatible\u001b[39m\u001b[34m(t, y, args, terms, term_structure, contr_kwargs)\u001b[39m\n\u001b[32m    199\u001b[39m     \u001b[38;5;28;01mwith\u001b[39;00m jax.numpy_dtype_promotion(\u001b[33m\"\u001b[39m\u001b[33mstandard\u001b[39m\u001b[33m\"\u001b[39m):\n\u001b[32m--> \u001b[39m\u001b[32m200\u001b[39m         \u001b[43mjtu\u001b[49m\u001b[43m.\u001b[49m\u001b[43mtree_map\u001b[49m\u001b[43m(\u001b[49m\u001b[43m_check\u001b[49m\u001b[43m,\u001b[49m\u001b[43m \u001b[49m\u001b[43mterm_structure\u001b[49m\u001b[43m,\u001b[49m\u001b[43m \u001b[49m\u001b[43mterms\u001b[49m\u001b[43m,\u001b[49m\u001b[43m \u001b[49m\u001b[43mcontr_kwargs\u001b[49m\u001b[43m,\u001b[49m\u001b[43m \u001b[49m\u001b[43my\u001b[49m\u001b[43m)\u001b[49m\n\u001b[32m    201\u001b[39m \u001b[38;5;28;01mexcept\u001b[39;00m \u001b[38;5;167;01mValueError\u001b[39;00m \u001b[38;5;28;01mas\u001b[39;00m e:\n\u001b[32m    202\u001b[39m     \u001b[38;5;66;03m# ValueError may also arise from mismatched tree structures\u001b[39;00m\n",
      "\u001b[36mFile \u001b[39m\u001b[32m~/.pyenv/versions/anaconda3-2024.10-1/envs/pdu_fit/lib/python3.13/site-packages/jax/_src/tree_util.py:358\u001b[39m, in \u001b[36mtree_map\u001b[39m\u001b[34m(f, tree, is_leaf, *rest)\u001b[39m\n\u001b[32m    357\u001b[39m all_leaves = [leaves] + [treedef.flatten_up_to(r) \u001b[38;5;28;01mfor\u001b[39;00m r \u001b[38;5;129;01min\u001b[39;00m rest]\n\u001b[32m--> \u001b[39m\u001b[32m358\u001b[39m \u001b[38;5;28;01mreturn\u001b[39;00m \u001b[43mtreedef\u001b[49m\u001b[43m.\u001b[49m\u001b[43munflatten\u001b[49m\u001b[43m(\u001b[49m\u001b[43mf\u001b[49m\u001b[43m(\u001b[49m\u001b[43m*\u001b[49m\u001b[43mxs\u001b[49m\u001b[43m)\u001b[49m\u001b[43m \u001b[49m\u001b[38;5;28;43;01mfor\u001b[39;49;00m\u001b[43m \u001b[49m\u001b[43mxs\u001b[49m\u001b[43m \u001b[49m\u001b[38;5;129;43;01min\u001b[39;49;00m\u001b[43m \u001b[49m\u001b[38;5;28;43mzip\u001b[39;49m\u001b[43m(\u001b[49m\u001b[43m*\u001b[49m\u001b[43mall_leaves\u001b[49m\u001b[43m)\u001b[49m\u001b[43m)\u001b[49m\n",
      "\u001b[36mFile \u001b[39m\u001b[32m~/.pyenv/versions/anaconda3-2024.10-1/envs/pdu_fit/lib/python3.13/site-packages/jax/_src/tree_util.py:358\u001b[39m, in \u001b[36m<genexpr>\u001b[39m\u001b[34m(.0)\u001b[39m\n\u001b[32m    357\u001b[39m all_leaves = [leaves] + [treedef.flatten_up_to(r) \u001b[38;5;28;01mfor\u001b[39;00m r \u001b[38;5;129;01min\u001b[39;00m rest]\n\u001b[32m--> \u001b[39m\u001b[32m358\u001b[39m \u001b[38;5;28;01mreturn\u001b[39;00m treedef.unflatten(\u001b[43mf\u001b[49m\u001b[43m(\u001b[49m\u001b[43m*\u001b[49m\u001b[43mxs\u001b[49m\u001b[43m)\u001b[49m \u001b[38;5;28;01mfor\u001b[39;00m xs \u001b[38;5;129;01min\u001b[39;00m \u001b[38;5;28mzip\u001b[39m(*all_leaves))\n",
      "\u001b[36mFile \u001b[39m\u001b[32m~/.pyenv/versions/anaconda3-2024.10-1/envs/pdu_fit/lib/python3.13/site-packages/diffrax/_integrate.py:172\u001b[39m, in \u001b[36m_assert_term_compatible.<locals>._check\u001b[39m\u001b[34m(term_cls, term, term_contr_kwargs, yi)\u001b[39m\n\u001b[32m    171\u001b[39m \u001b[38;5;28;01mexcept\u001b[39;00m \u001b[38;5;167;01mException\u001b[39;00m \u001b[38;5;28;01mas\u001b[39;00m e:\n\u001b[32m--> \u001b[39m\u001b[32m172\u001b[39m     \u001b[38;5;28;01mraise\u001b[39;00m \u001b[38;5;167;01mValueError\u001b[39;00m(\u001b[33mf\u001b[39m\u001b[33m\"\u001b[39m\u001b[33mError while tracing \u001b[39m\u001b[38;5;132;01m{\u001b[39;00mterm\u001b[38;5;132;01m}\u001b[39;00m\u001b[33m.vf: \u001b[39m\u001b[33m\"\u001b[39m + \u001b[38;5;28mstr\u001b[39m(e))\n\u001b[32m    173\u001b[39m vf_type_compatible = eqx.filter_eval_shape(\n\u001b[32m    174\u001b[39m     better_isinstance, vf_type, vf_type_expected\n\u001b[32m    175\u001b[39m )\n",
      "\u001b[31mValueError\u001b[39m: Error while tracing ODETerm(vector_field=<PjitFunction of <function pdu_rhs at 0x11c061080>>).vf: Error interpreting argument to <function pdu_rhs at 0x11c061080> as an abstract array. The problematic value is of type <class 'str'> and was passed to the function at path args[1].\nThis typically means that a jit-wrapped function was called with a non-array argument, and this argument was not marked as static using the static_argnums or static_argnames parameters of jax.jit.",
      "\nThe above exception was the direct cause of the following exception:\n",
      "\u001b[31mValueError\u001b[39m                                Traceback (most recent call last)",
      "\u001b[36mCell\u001b[39m\u001b[36m \u001b[39m\u001b[32mIn[2]\u001b[39m\u001b[32m, line 21\u001b[39m\n\u001b[32m     11\u001b[39m dt = \u001b[32m1e-2\u001b[39m\n\u001b[32m     13\u001b[39m params = jnp.array([ \u001b[32m.5\u001b[39m, \u001b[32m.4\u001b[39m, \u001b[32m.8\u001b[39m, \u001b[32m1e8\u001b[39m, \u001b[32m40\u001b[39m, \\\n\u001b[32m     14\u001b[39m \u001b[32m1e3\u001b[39m, -\u001b[32m3000\u001b[39m, \u001b[32m100\u001b[39m, \u001b[32m50\u001b[39m, \u001b[32m200\u001b[39m, \u001b[32m140\u001b[39m, \\\n\u001b[32m     15\u001b[39m \u001b[32m1e4\u001b[39m, -\u001b[32m5000\u001b[39m, \u001b[32m40\u001b[39m, \u001b[32m10\u001b[39m, \u001b[32m100\u001b[39m, \u001b[32m70\u001b[39m, \\\n\u001b[32m   (...)\u001b[39m\u001b[32m     18\u001b[39m -\u001b[32m5\u001b[39m, -\u001b[32m6\u001b[39m, \\\n\u001b[32m     19\u001b[39m -\u001b[32m4\u001b[39m, \u001b[32m1.2\u001b[39m*V_RATIO])\n\u001b[32m---> \u001b[39m\u001b[32m21\u001b[39m t_out, y_out = measure_pdu(\u001b[43msimulate_pdu\u001b[49m\u001b[43m(\u001b[49m\u001b[43mparams\u001b[49m\u001b[43m,\u001b[49m\u001b[43m \u001b[49m\u001b[43my0\u001b[49m\u001b[43m,\u001b[49m\u001b[43m \u001b[49m\u001b[43mt0\u001b[49m\u001b[43m,\u001b[49m\u001b[43m \u001b[49m\u001b[43mt1\u001b[49m\u001b[43m,\u001b[49m\u001b[43m \u001b[49m\u001b[43mdt\u001b[49m\u001b[43m,\u001b[49m\u001b[43mKO\u001b[49m\u001b[43m=\u001b[49m\u001b[33;43m'\u001b[39;49m\u001b[33;43mdP\u001b[39;49m\u001b[33;43m'\u001b[39;49m\u001b[43m)\u001b[49m)\n\u001b[32m     22\u001b[39m y_out_sim = y_out + np.random.normal(\u001b[32m0\u001b[39m, \u001b[32m1\u001b[39m, y_out.shape)\n",
      "    \u001b[31m[... skipping hidden 16 frame]\u001b[39m\n",
      "\u001b[36mFile \u001b[39m\u001b[32m~/projects/pdu_fit/simulation.py:71\u001b[39m, in \u001b[36msimulate_pdu\u001b[39m\u001b[34m(params, y0, t0, t1, dt, timepoints, KO)\u001b[39m\n\u001b[32m     69\u001b[39m term = dfx.ODETerm(pdu_rhs)\n\u001b[32m     70\u001b[39m stepsize_controller = dfx.PIDController(rtol=\u001b[32m1e-6\u001b[39m, atol=\u001b[32m1e-8\u001b[39m)\n\u001b[32m---> \u001b[39m\u001b[32m71\u001b[39m sol = \u001b[43mdfx\u001b[49m\u001b[43m.\u001b[49m\u001b[43mdiffeqsolve\u001b[49m\u001b[43m(\u001b[49m\n\u001b[32m     72\u001b[39m \u001b[43m    \u001b[49m\u001b[43mterm\u001b[49m\u001b[43m,\u001b[49m\n\u001b[32m     73\u001b[39m \u001b[43m    \u001b[49m\u001b[43msolver\u001b[49m\u001b[43m,\u001b[49m\n\u001b[32m     74\u001b[39m \u001b[43m    \u001b[49m\u001b[43mt0\u001b[49m\u001b[43m=\u001b[49m\u001b[43mt0\u001b[49m\u001b[43m,\u001b[49m\n\u001b[32m     75\u001b[39m \u001b[43m    \u001b[49m\u001b[43mt1\u001b[49m\u001b[43m=\u001b[49m\u001b[43mt1\u001b[49m\u001b[43m,\u001b[49m\n\u001b[32m     76\u001b[39m \u001b[43m    \u001b[49m\u001b[43mdt0\u001b[49m\u001b[43m=\u001b[49m\u001b[43mdt\u001b[49m\u001b[43m,\u001b[49m\n\u001b[32m     77\u001b[39m \u001b[43m    \u001b[49m\u001b[43my0\u001b[49m\u001b[43m=\u001b[49m\u001b[43my0\u001b[49m\u001b[43m,\u001b[49m\n\u001b[32m     78\u001b[39m \u001b[43m    \u001b[49m\u001b[43mmax_steps\u001b[49m\u001b[43m=\u001b[49m\u001b[32;43m2\u001b[39;49m\u001b[43m*\u001b[49m\u001b[43m*\u001b[49m\u001b[32;43m10\u001b[39;49m\u001b[43m,\u001b[49m\n\u001b[32m     79\u001b[39m \u001b[43m    \u001b[49m\u001b[43margs\u001b[49m\u001b[43m=\u001b[49m\u001b[43m(\u001b[49m\u001b[43mparams\u001b[49m\u001b[43m,\u001b[49m\u001b[43m \u001b[49m\u001b[43mKO\u001b[49m\u001b[43m)\u001b[49m\u001b[43m,\u001b[49m\n\u001b[32m     80\u001b[39m \u001b[43m    \u001b[49m\u001b[43mstepsize_controller\u001b[49m\u001b[43m=\u001b[49m\u001b[43mstepsize_controller\u001b[49m\u001b[43m,\u001b[49m\n\u001b[32m     81\u001b[39m \u001b[43m    \u001b[49m\u001b[43msaveat\u001b[49m\u001b[43m=\u001b[49m\u001b[43mdfx\u001b[49m\u001b[43m.\u001b[49m\u001b[43mSaveAt\u001b[49m\u001b[43m(\u001b[49m\u001b[43mts\u001b[49m\u001b[43m=\u001b[49m\u001b[43mtimepoints\u001b[49m\u001b[43m)\u001b[49m\n\u001b[32m     82\u001b[39m \u001b[43m\u001b[49m\u001b[43m)\u001b[49m\n\u001b[32m     84\u001b[39m \u001b[38;5;28;01mreturn\u001b[39;00m sol.ts, sol.ys\n",
      "    \u001b[31m[... skipping hidden 19 frame]\u001b[39m\n",
      "\u001b[36mFile \u001b[39m\u001b[32m~/.pyenv/versions/anaconda3-2024.10-1/envs/pdu_fit/lib/python3.13/site-packages/diffrax/_integrate.py:1103\u001b[39m, in \u001b[36mdiffeqsolve\u001b[39m\u001b[34m(terms, solver, t0, t1, dt0, y0, args, saveat, stepsize_controller, adjoint, event, max_steps, throw, progress_meter, solver_state, controller_state, made_jump, discrete_terminating_event)\u001b[39m\n\u001b[32m   1100\u001b[39m         terms = MultiTerm(*terms)\n\u001b[32m   1102\u001b[39m \u001b[38;5;66;03m# Error checking for term compatibility\u001b[39;00m\n\u001b[32m-> \u001b[39m\u001b[32m1103\u001b[39m \u001b[43m_assert_term_compatible\u001b[49m\u001b[43m(\u001b[49m\n\u001b[32m   1104\u001b[39m \u001b[43m    \u001b[49m\u001b[43mt0\u001b[49m\u001b[43m,\u001b[49m\n\u001b[32m   1105\u001b[39m \u001b[43m    \u001b[49m\u001b[43my0\u001b[49m\u001b[43m,\u001b[49m\n\u001b[32m   1106\u001b[39m \u001b[43m    \u001b[49m\u001b[43margs\u001b[49m\u001b[43m,\u001b[49m\n\u001b[32m   1107\u001b[39m \u001b[43m    \u001b[49m\u001b[43mterms\u001b[49m\u001b[43m,\u001b[49m\n\u001b[32m   1108\u001b[39m \u001b[43m    \u001b[49m\u001b[43msolver\u001b[49m\u001b[43m.\u001b[49m\u001b[43mterm_structure\u001b[49m\u001b[43m,\u001b[49m\n\u001b[32m   1109\u001b[39m \u001b[43m    \u001b[49m\u001b[43msolver\u001b[49m\u001b[43m.\u001b[49m\u001b[43mterm_compatible_contr_kwargs\u001b[49m\u001b[43m,\u001b[49m\n\u001b[32m   1110\u001b[39m \u001b[43m\u001b[49m\u001b[43m)\u001b[49m\n\u001b[32m   1112\u001b[39m \u001b[38;5;28;01mif\u001b[39;00m is_sde(terms):\n\u001b[32m   1113\u001b[39m     \u001b[38;5;28;01mif\u001b[39;00m \u001b[38;5;129;01mnot\u001b[39;00m \u001b[38;5;28misinstance\u001b[39m(solver, (AbstractItoSolver, AbstractStratonovichSolver)):\n",
      "\u001b[36mFile \u001b[39m\u001b[32m~/.pyenv/versions/anaconda3-2024.10-1/envs/pdu_fit/lib/python3.13/site-packages/diffrax/_integrate.py:205\u001b[39m, in \u001b[36m_assert_term_compatible\u001b[39m\u001b[34m(t, y, args, terms, term_structure, contr_kwargs)\u001b[39m\n\u001b[32m    203\u001b[39m pretty_term = wl.pformat(terms)\n\u001b[32m    204\u001b[39m pretty_expected = wl.pformat(term_structure)\n\u001b[32m--> \u001b[39m\u001b[32m205\u001b[39m \u001b[38;5;28;01mraise\u001b[39;00m \u001b[38;5;167;01mValueError\u001b[39;00m(\n\u001b[32m    206\u001b[39m     \u001b[33mf\u001b[39m\u001b[33m\"\u001b[39m\u001b[33mTerms are not compatible with solver! Got:\u001b[39m\u001b[38;5;130;01m\\n\u001b[39;00m\u001b[38;5;132;01m{\u001b[39;00mpretty_term\u001b[38;5;132;01m}\u001b[39;00m\u001b[38;5;130;01m\\n\u001b[39;00m\u001b[33mbut expected:\u001b[39m\u001b[33m\"\u001b[39m\n\u001b[32m    207\u001b[39m     \u001b[33mf\u001b[39m\u001b[33m\"\u001b[39m\u001b[38;5;130;01m\\n\u001b[39;00m\u001b[38;5;132;01m{\u001b[39;00mpretty_expected\u001b[38;5;132;01m}\u001b[39;00m\u001b[38;5;130;01m\\n\u001b[39;00m\u001b[33mNote that terms are checked recursively: if you \u001b[39m\u001b[33m\"\u001b[39m\n\u001b[32m    208\u001b[39m     \u001b[33m\"\u001b[39m\u001b[33mscroll up you may find a root-cause error that is more specific.\u001b[39m\u001b[33m\"\u001b[39m\n\u001b[32m    209\u001b[39m ) \u001b[38;5;28;01mfrom\u001b[39;00m\u001b[38;5;250m \u001b[39m\u001b[34;01me\u001b[39;00m\n",
      "\u001b[31mValueError\u001b[39m: Terms are not compatible with solver! Got:\nODETerm(vector_field=<PjitFunction of <function pdu_rhs at 0x11c061080>>)\nbut expected:\ndiffrax.AbstractTerm\nNote that terms are checked recursively: if you scroll up you may find a root-cause error that is more specific."
     ]
    }
   ],
   "source": [
    "from simulation import generate_y0, simulate_pdu, measure_pdu\n",
    "from pdu_rhs import V_RATIO\n",
    "import numpy as np\n",
    "\n",
    "data_ICs = jnp.array([80, 0, 0, 0]) \n",
    "params = jnp.array([.5, .4, .8, .9, .6])\n",
    "y0 = generate_y0(params, data_ICs)\n",
    "\n",
    "t0 = 0.0\n",
    "t1 = 10.0*3600\n",
    "dt = 1e-2\n",
    "\n",
    "params = jnp.array([ .5, .4, .8, 1e8, 40, \\\n",
    "1e3, -3000, 100, 50, 200, 140, \\\n",
    "1e4, -5000, 40, 10, 100, 70, \\\n",
    "1e9,  -10000, 50, 85, \\\n",
    "1e9, -10000, 10, 100, \\\n",
    "-5, -6, \\\n",
    "-4, 1.2*V_RATIO])\n",
    "\n",
    "t_out, y_out = measure_pdu(simulate_pdu(params, y0, t0, t1, dt,KO='dP'))\n",
    "y_out_sim = y_out + np.random.normal(0, 1, y_out.shape)"
   ]
  },
  {
   "cell_type": "code",
   "execution_count": null,
   "metadata": {},
   "outputs": [
    {
     "data": {
      "text/plain": [
       "Array(0.94565326, dtype=float64)"
      ]
     },
     "execution_count": 3,
     "metadata": {},
     "output_type": "execute_result"
    }
   ],
   "source": [
    "np.mean((y_out_sim - y_out)**2)"
   ]
  },
  {
   "cell_type": "code",
   "execution_count": null,
   "metadata": {},
   "outputs": [
    {
     "data": {
      "text/plain": [
       "Array(0.99690999, dtype=float64)"
      ]
     },
     "execution_count": 8,
     "metadata": {},
     "output_type": "execute_result"
    }
   ],
   "source": [
    "from objective import construct_loss, parameterize_loss, objective\n",
    "\n",
    "options = {\"loss_fn\": \"MSE\",\n",
    "           \"t_weight\": \"linear\",\n",
    "           \"weight\": \"relative\",\n",
    "           }\n",
    "\n",
    "loss_fn = construct_loss(options)\n",
    "loss_fn = parameterize_loss(y_out, t_out, loss_fn)\n",
    "\n",
    "loss_fn(y_out, y_out_sim)"
   ]
  },
  {
   "cell_type": "code",
   "execution_count": null,
   "metadata": {},
   "outputs": [
    {
     "data": {
      "text/plain": [
       "Array(0.99690999, dtype=float64)"
      ]
     },
     "execution_count": 9,
     "metadata": {},
     "output_type": "execute_result"
    }
   ],
   "source": [
    "#objective_jit = jax.jit(objective, static_argnums=0)\n",
    "from collections import namedtuple\n",
    "\n",
    "KO = None\n",
    "objective(loss_fn, params, y_out_sim, t_out, dt, data_ICs, KO)"
   ]
  },
  {
   "cell_type": "code",
   "execution_count": null,
   "metadata": {},
   "outputs": [
    {
     "ename": "SyntaxError",
     "evalue": "can't use starred expression here (4268491758.py, line 1)",
     "output_type": "error",
     "traceback": [
      "  \u001b[36mCell\u001b[39m\u001b[36m \u001b[39m\u001b[32mIn[7]\u001b[39m\u001b[32m, line 1\u001b[39m\n\u001b[31m    \u001b[39m\u001b[31m*(t_out, y_out, data_ICs, None)\u001b[39m\n    ^\n\u001b[31mSyntaxError\u001b[39m\u001b[31m:\u001b[39m can't use starred expression here\n"
     ]
    }
   ],
   "source": []
  }
 ],
 "metadata": {
  "kernelspec": {
   "display_name": "pdu_fit",
   "language": "python",
   "name": "python3"
  },
  "language_info": {
   "codemirror_mode": {
    "name": "ipython",
    "version": 3
   },
   "file_extension": ".py",
   "mimetype": "text/x-python",
   "name": "python",
   "nbconvert_exporter": "python",
   "pygments_lexer": "ipython3",
   "version": "3.13.2"
  }
 },
 "nbformat": 4,
 "nbformat_minor": 2
}
