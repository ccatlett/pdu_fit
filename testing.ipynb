{
 "cells": [
  {
   "cell_type": "code",
   "execution_count": 2,
   "metadata": {},
   "outputs": [],
   "source": [
    "import jax \n",
    "import scipy\n",
    "import jax.numpy as jnp\n",
    "import diffrax as dfx\n",
    "import optax as opx"
   ]
  },
  {
   "cell_type": "code",
   "execution_count": 3,
   "metadata": {},
   "outputs": [],
   "source": [
    "from simulation import generate_y0, simulate_pdu, measure_pdu\n",
    "from pdu_rhs import V_RATIO\n",
    "import numpy as np\n",
    "\n",
    "np.random.seed(42)\n",
    "\n",
    "data_ICs = jnp.array([80, 0, 0, 0]) \n",
    "params = jnp.array([.5, .4, .8, .9, .6])\n",
    "y0 = generate_y0(params, data_ICs)\n",
    "\n",
    "t0 = 0.0\n",
    "t1 = 10.0*3600\n",
    "dt = 1e-2\n",
    "\n",
    "params = jnp.array([ .5, .4, .8, 1e8, 40, \\\n",
    "1e3, -3000, 100, 50, 200, 140, \\\n",
    "1e4, -5000, 40, 10, 100, 70, \\\n",
    "1e9,  -10000, 50, 85, \\\n",
    "1e9, -10000, 10, 100, \\\n",
    "-5, -6, \\\n",
    "-4, 1.2*V_RATIO])\n",
    "\n",
    "t_out, y_out = measure_pdu(simulate_pdu(params, y0, t0, t1, dt, KO=None))\n",
    "y_out_sim = y_out + np.random.normal(0, 1, y_out.shape)"
   ]
  },
  {
   "cell_type": "code",
   "execution_count": 4,
   "metadata": {},
   "outputs": [],
   "source": [
    "from objective import construct_loss, parameterize_loss, objective\n",
    "\n",
    "options = {\"loss_fn\": \"MSE\",\n",
    "           \"t_weight\": None,\n",
    "           \"weight\": None,\n",
    "           }\n",
    "\n",
    "loss_fn = construct_loss(options)\n",
    "loss_fn = parameterize_loss(y_out, t_out, loss_fn)\n",
    "\n",
    "m = loss_fn(y_out, y_out_sim)"
   ]
  },
  {
   "cell_type": "code",
   "execution_count": 5,
   "metadata": {},
   "outputs": [
    {
     "data": {
      "text/plain": [
       "Array(0.97860841, dtype=float64)"
      ]
     },
     "execution_count": 5,
     "metadata": {},
     "output_type": "execute_result"
    }
   ],
   "source": [
    "m"
   ]
  },
  {
   "cell_type": "code",
   "execution_count": 6,
   "metadata": {},
   "outputs": [
    {
     "data": {
      "text/plain": [
       "Array(0.97860841, dtype=float64)"
      ]
     },
     "execution_count": 6,
     "metadata": {},
     "output_type": "execute_result"
    }
   ],
   "source": [
    "#objective_jit = jax.jit(objective, static_argnums=0)\n",
    "from collections import namedtuple\n",
    "\n",
    "KO = None\n",
    "jnp.squeeze(objective(loss_fn, params, y_out_sim, t_out, dt, data_ICs, KO))"
   ]
  },
  {
   "cell_type": "code",
   "execution_count": 7,
   "metadata": {},
   "outputs": [],
   "source": [
    "from run_adam_tune import run_adam_loop, batch_run_adam\n",
    "\n",
    "obj = lambda p : jnp.squeeze(objective(loss_fn, p, y_out_sim, t_out, dt, data_ICs, KO)).reshape(())\n",
    "\n",
    "#batch_run_adam(jnp.array([1.01*params, 1.0001*params, 2*params]), 1e-3, .9, .999, 100, obj)"
   ]
  },
  {
   "cell_type": "code",
   "execution_count": 8,
   "metadata": {},
   "outputs": [],
   "source": [
    "from lhs_sampling import lh_samples"
   ]
  },
  {
   "cell_type": "code",
   "execution_count": 11,
   "metadata": {},
   "outputs": [
    {
     "data": {
      "text/plain": [
       "Array([  82.47785683, 1231.69895018,   38.45305812,   42.25219098,\n",
       "        184.13129774], dtype=float64)"
      ]
     },
     "execution_count": 11,
     "metadata": {},
     "output_type": "execute_result"
    }
   ],
   "source": [
    "pars = lh_samples(100)[50:55]\n",
    "batch_run_adam(pars, 1e-3, .9, .999, 100, obj)"
   ]
  },
  {
   "cell_type": "code",
   "execution_count": 9,
   "metadata": {},
   "outputs": [
    {
     "data": {
      "text/plain": [
       "'from tuning import tune_adam_hyperparams\\n\\nbest = tune_adam_hyperparams(obj, pars, num_steps=10, num_trials=5)'"
      ]
     },
     "execution_count": 9,
     "metadata": {},
     "output_type": "execute_result"
    }
   ],
   "source": [
    "\"\"\"from tuning import tune_adam_hyperparams\n",
    "\n",
    "best = tune_adam_hyperparams(obj, pars, num_steps=10, num_trials=5)\"\"\""
   ]
  },
  {
   "cell_type": "code",
   "execution_count": null,
   "metadata": {},
   "outputs": [
    {
     "data": {
      "text/plain": [
       "{'optimal_params': Array([-1.23649948e-01,  1.38424377e-01,  4.64136999e-01,  2.99341918e+07,\n",
       "         9.83041921e+00,  6.56734128e+05, -3.73873497e+04,  1.19624224e+02,\n",
       "         1.35542248e+02,  3.83614137e+02,  1.09832043e+02,  5.58582573e+05,\n",
       "        -6.93863542e+02,  3.83072980e+01,  1.12800823e+01,  1.76500584e+02,\n",
       "         5.73229690e+01,  8.51042498e+05,  2.46648537e+04,  3.70562664e+01,\n",
       "         1.67781024e+02,  9.30549865e+02, -3.66088139e+04,  7.57422066e+01,\n",
       "         3.55876177e+02, -5.94864119e+00, -9.70998575e+00, -3.45326162e+00,\n",
       "         9.33680100e+03], dtype=float64),\n",
       " 'loss': Array(1.6418833e+09, dtype=float64),\n",
       " 'grad': Array([-1.92201054e-02,  0.00000000e+00,  0.00000000e+00,  1.09781527e+02,\n",
       "         2.80449542e+04, -5.81336978e-27,  3.68853315e-39,  3.19152611e-23,\n",
       "         2.81671462e-23, -2.05804340e-41,  4.07748415e-39,  4.64506832e-27,\n",
       "        -1.07336697e-43, -6.77326345e-23, -2.30020858e-22, -6.24328401e-39,\n",
       "        -6.90853449e-39, -8.96334059e-33, -2.67578766e-32,  2.05854084e-28,\n",
       "         2.44569164e-45,  2.58424589e-36, -4.79334608e-28, -3.17494007e-35,\n",
       "         1.56094915e-51,  4.41831463e+05,  3.07769816e-21, -1.14083539e+08,\n",
       "        -3.51918246e+05], dtype=float64),\n",
       " 'converged': False}"
      ]
     },
     "execution_count": 12,
     "metadata": {},
     "output_type": "execute_result"
    }
   ],
   "source": [
    "from run_adam_full import run_adam_with_outputs\n",
    "\n",
    "run_adam_with_outputs(pars[2], 1e-3, .9, .999, 100, obj)"
   ]
  },
  {
   "cell_type": "code",
   "execution_count": 10,
   "metadata": {},
   "outputs": [],
   "source": [
    "J = jnp.array([-3.76411976e-05,  0.00000000e+00,  0.00000000e+00, -7.34038476e-11,\n",
    "         1.62801508e-04,  0.00000000e+00,  0.00000000e+00,  0.00000000e+00,\n",
    "         0.00000000e+00,  0.00000000e+00,  0.00000000e+00,  0.00000000e+00,\n",
    "         0.00000000e+00,  0.00000000e+00,  0.00000000e+00,  0.00000000e+00,\n",
    "         0.00000000e+00,  0.00000000e+00,  0.00000000e+00,  0.00000000e+00,\n",
    "         0.00000000e+00,  0.00000000e+00,  0.00000000e+00,  0.00000000e+00,\n",
    "         0.00000000e+00, -2.06295554e+00,  0.00000000e+00,  3.15587644e-02,\n",
    "         6.39481504e-05])"
   ]
  },
  {
   "cell_type": "code",
   "execution_count": 11,
   "metadata": {},
   "outputs": [
    {
     "name": "stderr",
     "output_type": "stream",
     "text": [
      "ERROR:2025-04-11 00:35:08,899:jax._src.callback:102: jax.pure_callback failed\n",
      "Traceback (most recent call last):\n",
      "  File \"/Users/ccat/.pyenv/versions/anaconda3-2024.10-1/envs/pdu_fit/lib/python3.13/site-packages/jax/_src/callback.py\", line 100, in pure_callback_impl\n",
      "    return tree_util.tree_map(np.asarray, callback(*args))\n",
      "                                          ~~~~~~~~^^^^^^^\n",
      "  File \"/Users/ccat/.pyenv/versions/anaconda3-2024.10-1/envs/pdu_fit/lib/python3.13/site-packages/jax/_src/callback.py\", line 77, in __call__\n",
      "    return tree_util.tree_leaves(self.callback_func(*args, **kwargs))\n",
      "                                 ~~~~~~~~~~~~~~~~~~^^^^^^^^^^^^^^^^^\n",
      "  File \"/Users/ccat/.pyenv/versions/anaconda3-2024.10-1/envs/pdu_fit/lib/python3.13/site-packages/equinox/_errors.py\", line 89, in raises\n",
      "    raise _EquinoxRuntimeError(\n",
      "    ...<9 lines>...\n",
      "    )\n",
      "equinox._errors._EquinoxRuntimeError: The maximum number of solver steps was reached. Try increasing `max_steps`.\n",
      "\n",
      "\n",
      "--------------------\n",
      "An error occurred during the runtime of your JAX program! Unfortunately you do not appear to be using `equinox.filter_jit` (perhaps you are using `jax.jit` instead?) and so further information about the error cannot be displayed. (Probably you are seeing a very large but uninformative error message right now.) Please wrap your program with `equinox.filter_jit`.\n",
      "--------------------\n",
      "\n"
     ]
    },
    {
     "ename": "XlaRuntimeError",
     "evalue": "INTERNAL: CpuCallback error: Traceback (most recent call last):\n  File \"/Users/ccat/.pyenv/versions/anaconda3-2024.10-1/envs/pdu_fit/lib/python3.13/site-packages/jax/_src/callback.py\", line 778, in _wrapped_callback\n  File \"/Users/ccat/.pyenv/versions/anaconda3-2024.10-1/envs/pdu_fit/lib/python3.13/site-packages/jax/_src/callback.py\", line 224, in _callback\n  File \"/Users/ccat/.pyenv/versions/anaconda3-2024.10-1/envs/pdu_fit/lib/python3.13/site-packages/jax/_src/callback.py\", line 103, in pure_callback_impl\n  File \"/Users/ccat/.pyenv/versions/anaconda3-2024.10-1/envs/pdu_fit/lib/python3.13/site-packages/jax/_src/callback.py\", line 77, in __call__\n  File \"/Users/ccat/.pyenv/versions/anaconda3-2024.10-1/envs/pdu_fit/lib/python3.13/site-packages/equinox/_errors.py\", line 89, in raises\n_EquinoxRuntimeError: The maximum number of solver steps was reached. Try increasing `max_steps`.\n\n\n--------------------\nAn error occurred during the runtime of your JAX program! Unfortunately you do not appear to be using `equinox.filter_jit` (perhaps you are using `jax.jit` instead?) and so further information about the error cannot be displayed. (Probably you are seeing a very large but uninformative error message right now.) Please wrap your program with `equinox.filter_jit`.\n--------------------\n",
     "output_type": "error",
     "traceback": [
      "\u001b[31m---------------------------------------------------------------------------\u001b[39m",
      "\u001b[31mXlaRuntimeError\u001b[39m                           Traceback (most recent call last)",
      "\u001b[36mCell\u001b[39m\u001b[36m \u001b[39m\u001b[32mIn[11]\u001b[39m\u001b[32m, line 1\u001b[39m\n\u001b[32m----> \u001b[39m\u001b[32m1\u001b[39m \u001b[43mjax\u001b[49m\u001b[43m.\u001b[49m\u001b[43mjacobian\u001b[49m\u001b[43m(\u001b[49m\u001b[43mobj\u001b[49m\u001b[43m)\u001b[49m\u001b[43m(\u001b[49m\u001b[43mJ\u001b[49m\u001b[43m)\u001b[49m\n",
      "\u001b[36mFile \u001b[39m\u001b[32m~/.pyenv/versions/anaconda3-2024.10-1/envs/pdu_fit/lib/python3.13/site-packages/jax/_src/api.py:686\u001b[39m, in \u001b[36mjacrev.<locals>.jacfun\u001b[39m\u001b[34m(*args, **kwargs)\u001b[39m\n\u001b[32m    684\u001b[39m tree_map(partial(_check_input_dtype_jacrev, holomorphic, allow_int), dyn_args)\n\u001b[32m    685\u001b[39m \u001b[38;5;28;01mif\u001b[39;00m \u001b[38;5;129;01mnot\u001b[39;00m has_aux:\n\u001b[32m--> \u001b[39m\u001b[32m686\u001b[39m   y, pullback = \u001b[43m_vjp\u001b[49m\u001b[43m(\u001b[49m\u001b[43mf_partial\u001b[49m\u001b[43m,\u001b[49m\u001b[43m \u001b[49m\u001b[43m*\u001b[49m\u001b[43mdyn_args\u001b[49m\u001b[43m)\u001b[49m\n\u001b[32m    687\u001b[39m \u001b[38;5;28;01melse\u001b[39;00m:\n\u001b[32m    688\u001b[39m   y, pullback, aux = _vjp(f_partial, *dyn_args, has_aux=\u001b[38;5;28;01mTrue\u001b[39;00m)\n",
      "\u001b[36mFile \u001b[39m\u001b[32m~/.pyenv/versions/anaconda3-2024.10-1/envs/pdu_fit/lib/python3.13/site-packages/jax/_src/api.py:2020\u001b[39m, in \u001b[36m_vjp\u001b[39m\u001b[34m(fun, has_aux, *primals)\u001b[39m\n\u001b[32m   2018\u001b[39m \u001b[38;5;28;01mif\u001b[39;00m \u001b[38;5;129;01mnot\u001b[39;00m has_aux:\n\u001b[32m   2019\u001b[39m   flat_fun, out_tree = flatten_fun_nokwargs(fun, in_tree)\n\u001b[32m-> \u001b[39m\u001b[32m2020\u001b[39m   out_primals, vjp = \u001b[43mad\u001b[49m\u001b[43m.\u001b[49m\u001b[43mvjp\u001b[49m\u001b[43m(\u001b[49m\u001b[43mflat_fun\u001b[49m\u001b[43m,\u001b[49m\u001b[43m \u001b[49m\u001b[43mprimals_flat\u001b[49m\u001b[43m)\u001b[49m\n\u001b[32m   2021\u001b[39m   out_tree = out_tree()\n\u001b[32m   2022\u001b[39m \u001b[38;5;28;01melse\u001b[39;00m:\n",
      "\u001b[36mFile \u001b[39m\u001b[32m~/.pyenv/versions/anaconda3-2024.10-1/envs/pdu_fit/lib/python3.13/site-packages/jax/_src/interpreters/ad.py:279\u001b[39m, in \u001b[36mvjp\u001b[39m\u001b[34m(traceable, primals, has_aux)\u001b[39m\n\u001b[32m    277\u001b[39m \u001b[38;5;28;01mdef\u001b[39;00m\u001b[38;5;250m \u001b[39m\u001b[34mvjp\u001b[39m(traceable: lu.WrappedFun, primals, has_aux=\u001b[38;5;28;01mFalse\u001b[39;00m):\n\u001b[32m    278\u001b[39m   \u001b[38;5;28;01mif\u001b[39;00m \u001b[38;5;129;01mnot\u001b[39;00m has_aux:\n\u001b[32m--> \u001b[39m\u001b[32m279\u001b[39m     out_primals, pvals, jaxpr, consts = \u001b[43mlinearize\u001b[49m\u001b[43m(\u001b[49m\u001b[43mtraceable\u001b[49m\u001b[43m,\u001b[49m\u001b[43m \u001b[49m\u001b[43m*\u001b[49m\u001b[43mprimals\u001b[49m\u001b[43m)\u001b[49m\n\u001b[32m    280\u001b[39m   \u001b[38;5;28;01melse\u001b[39;00m:\n\u001b[32m    281\u001b[39m     out_primals, pvals, jaxpr, consts, aux = linearize(traceable, *primals, has_aux=\u001b[38;5;28;01mTrue\u001b[39;00m)\n",
      "\u001b[36mFile \u001b[39m\u001b[32m~/.pyenv/versions/anaconda3-2024.10-1/envs/pdu_fit/lib/python3.13/site-packages/jax/_src/interpreters/ad.py:264\u001b[39m, in \u001b[36mlinearize\u001b[39m\u001b[34m(traceable, *primals, **kwargs)\u001b[39m\n\u001b[32m    262\u001b[39m _, in_tree = tree_flatten(((primals, primals), {}))\n\u001b[32m    263\u001b[39m jvpfun_flat, out_tree = flatten_fun(jvpfun, in_tree)\n\u001b[32m--> \u001b[39m\u001b[32m264\u001b[39m jaxpr, out_pvals, consts = \u001b[43mpe\u001b[49m\u001b[43m.\u001b[49m\u001b[43mtrace_to_jaxpr_nounits\u001b[49m\u001b[43m(\u001b[49m\u001b[43mjvpfun_flat\u001b[49m\u001b[43m,\u001b[49m\u001b[43m \u001b[49m\u001b[43min_pvals\u001b[49m\u001b[43m)\u001b[49m\n\u001b[32m    265\u001b[39m out_primals_pvals, out_tangents_pvals = tree_unflatten(out_tree(), out_pvals)\n\u001b[32m    266\u001b[39m \u001b[38;5;28;01mif\u001b[39;00m \u001b[38;5;28many\u001b[39m(\u001b[38;5;129;01mnot\u001b[39;00m out_primal_pval.is_known() \u001b[38;5;28;01mfor\u001b[39;00m out_primal_pval \u001b[38;5;129;01min\u001b[39;00m out_primals_pvals):\n",
      "\u001b[36mFile \u001b[39m\u001b[32m~/.pyenv/versions/anaconda3-2024.10-1/envs/pdu_fit/lib/python3.13/site-packages/jax/_src/profiler.py:334\u001b[39m, in \u001b[36mannotate_function.<locals>.wrapper\u001b[39m\u001b[34m(*args, **kwargs)\u001b[39m\n\u001b[32m    331\u001b[39m \u001b[38;5;129m@wraps\u001b[39m(func)\n\u001b[32m    332\u001b[39m \u001b[38;5;28;01mdef\u001b[39;00m\u001b[38;5;250m \u001b[39m\u001b[34mwrapper\u001b[39m(*args, **kwargs):\n\u001b[32m    333\u001b[39m   \u001b[38;5;28;01mwith\u001b[39;00m TraceAnnotation(name, **decorator_kwargs):\n\u001b[32m--> \u001b[39m\u001b[32m334\u001b[39m     \u001b[38;5;28;01mreturn\u001b[39;00m \u001b[43mfunc\u001b[49m\u001b[43m(\u001b[49m\u001b[43m*\u001b[49m\u001b[43margs\u001b[49m\u001b[43m,\u001b[49m\u001b[43m \u001b[49m\u001b[43m*\u001b[49m\u001b[43m*\u001b[49m\u001b[43mkwargs\u001b[49m\u001b[43m)\u001b[49m\n\u001b[32m    335\u001b[39m   \u001b[38;5;28;01mreturn\u001b[39;00m wrapper\n",
      "\u001b[36mFile \u001b[39m\u001b[32m~/.pyenv/versions/anaconda3-2024.10-1/envs/pdu_fit/lib/python3.13/site-packages/jax/_src/interpreters/partial_eval.py:578\u001b[39m, in \u001b[36mtrace_to_jaxpr_nounits\u001b[39m\u001b[34m(fun, pvals, instantiate)\u001b[39m\n\u001b[32m    576\u001b[39m fun = trace_to_subjaxpr_nounits(fun, trace, instantiate, fun.debug_info)\n\u001b[32m    577\u001b[39m \u001b[38;5;28;01mwith\u001b[39;00m core.set_current_trace(trace):\n\u001b[32m--> \u001b[39m\u001b[32m578\u001b[39m   jaxpr, (out_pvals, consts, env) = \u001b[43mfun\u001b[49m\u001b[43m.\u001b[49m\u001b[43mcall_wrapped\u001b[49m\u001b[43m(\u001b[49m\u001b[43mpvals\u001b[49m\u001b[43m)\u001b[49m\n\u001b[32m    579\u001b[39m   \u001b[38;5;28;01massert\u001b[39;00m \u001b[38;5;129;01mnot\u001b[39;00m env\n\u001b[32m    580\u001b[39m \u001b[38;5;28;01mdel\u001b[39;00m trace, fun\n",
      "\u001b[36mFile \u001b[39m\u001b[32m~/.pyenv/versions/anaconda3-2024.10-1/envs/pdu_fit/lib/python3.13/site-packages/jax/_src/linear_util.py:210\u001b[39m, in \u001b[36mWrappedFun.call_wrapped\u001b[39m\u001b[34m(self, *args, **kwargs)\u001b[39m\n\u001b[32m    208\u001b[39m \u001b[38;5;28;01mdef\u001b[39;00m\u001b[38;5;250m \u001b[39m\u001b[34mcall_wrapped\u001b[39m(\u001b[38;5;28mself\u001b[39m, *args, **kwargs):\n\u001b[32m    209\u001b[39m \u001b[38;5;250m  \u001b[39m\u001b[33;03m\"\"\"Calls the transformed function\"\"\"\u001b[39;00m\n\u001b[32m--> \u001b[39m\u001b[32m210\u001b[39m   \u001b[38;5;28;01mreturn\u001b[39;00m \u001b[38;5;28;43mself\u001b[39;49m\u001b[43m.\u001b[49m\u001b[43mf_transformed\u001b[49m\u001b[43m(\u001b[49m\u001b[43m*\u001b[49m\u001b[43margs\u001b[49m\u001b[43m,\u001b[49m\u001b[43m \u001b[49m\u001b[43m*\u001b[49m\u001b[43m*\u001b[49m\u001b[43mkwargs\u001b[49m\u001b[43m)\u001b[49m\n",
      "\u001b[36mFile \u001b[39m\u001b[32m~/.pyenv/versions/anaconda3-2024.10-1/envs/pdu_fit/lib/python3.13/site-packages/jax/_src/interpreters/partial_eval.py:592\u001b[39m, in \u001b[36mtrace_to_subjaxpr_nounits\u001b[39m\u001b[34m(f, trace, instantiate, debug_info, in_pvals)\u001b[39m\n\u001b[32m    584\u001b[39m \u001b[38;5;129m@lu\u001b[39m.transformation2\n\u001b[32m    585\u001b[39m \u001b[38;5;28;01mdef\u001b[39;00m\u001b[38;5;250m \u001b[39m\u001b[34mtrace_to_subjaxpr_nounits\u001b[39m(\n\u001b[32m    586\u001b[39m     f: Callable,\n\u001b[32m   (...)\u001b[39m\u001b[32m    589\u001b[39m     debug_info: core.DebugInfo,\n\u001b[32m    590\u001b[39m     in_pvals: Sequence[PartialVal]):\n\u001b[32m    591\u001b[39m   \u001b[38;5;28;01massert\u001b[39;00m \u001b[38;5;28mall\u001b[39m(\u001b[38;5;28misinstance\u001b[39m(pv, PartialVal) \u001b[38;5;28;01mfor\u001b[39;00m pv \u001b[38;5;129;01min\u001b[39;00m in_pvals), in_pvals\n\u001b[32m--> \u001b[39m\u001b[32m592\u001b[39m   out_tracers, jaxpr, out_consts, env = \u001b[43m_trace_to_subjaxpr_nounits\u001b[49m\u001b[43m(\u001b[49m\n\u001b[32m    593\u001b[39m \u001b[43m      \u001b[49m\u001b[43mf\u001b[49m\u001b[43m,\u001b[49m\u001b[43m \u001b[49m\u001b[43mtrace\u001b[49m\u001b[43m,\u001b[49m\u001b[43m \u001b[49m\u001b[43minstantiate\u001b[49m\u001b[43m,\u001b[49m\u001b[43m \u001b[49m\u001b[43min_pvals\u001b[49m\u001b[43m,\u001b[49m\u001b[43m \u001b[49m\u001b[43mdebug_info\u001b[49m\u001b[43m)\u001b[49m\n\u001b[32m    594\u001b[39m   out_pvals = [t.pval \u001b[38;5;28;01mfor\u001b[39;00m t \u001b[38;5;129;01min\u001b[39;00m out_tracers]\n\u001b[32m    595\u001b[39m   \u001b[38;5;28;01mdel\u001b[39;00m out_tracers\n",
      "\u001b[36mFile \u001b[39m\u001b[32m~/.pyenv/versions/anaconda3-2024.10-1/envs/pdu_fit/lib/python3.13/site-packages/jax/_src/interpreters/partial_eval.py:625\u001b[39m, in \u001b[36m_trace_to_subjaxpr_nounits\u001b[39m\u001b[34m(f, trace, instantiate, in_pvals, debug_info)\u001b[39m\n\u001b[32m    623\u001b[39m in_args = merge_lists(in_knowns, in_tracers, in_consts)\n\u001b[32m    624\u001b[39m \u001b[38;5;28;01mwith\u001b[39;00m core.set_current_trace(trace):\n\u001b[32m--> \u001b[39m\u001b[32m625\u001b[39m   ans = \u001b[43mf\u001b[49m\u001b[43m(\u001b[49m\u001b[43m*\u001b[49m\u001b[43min_args\u001b[49m\u001b[43m)\u001b[49m\n\u001b[32m    626\u001b[39m \u001b[38;5;28;01massert\u001b[39;00m \u001b[38;5;28misinstance\u001b[39m(ans, (\u001b[38;5;28mlist\u001b[39m, \u001b[38;5;28mtuple\u001b[39m)), (\n\u001b[32m    627\u001b[39m     \u001b[33mf\u001b[39m\u001b[33m\"\u001b[39m\u001b[33mGot unexpected return type when tracing function to jaxpr: \u001b[39m\u001b[38;5;132;01m{\u001b[39;00mans\u001b[38;5;132;01m}\u001b[39;00m\u001b[33m\"\u001b[39m)\n\u001b[32m    628\u001b[39m \u001b[38;5;28;01massert\u001b[39;00m \u001b[38;5;28mall\u001b[39m(\u001b[38;5;28misinstance\u001b[39m(x, core.Tracer) \u001b[38;5;129;01mor\u001b[39;00m core.valid_jaxtype(x) \u001b[38;5;28;01mfor\u001b[39;00m x \u001b[38;5;129;01min\u001b[39;00m ans), (\n\u001b[32m    629\u001b[39m     \u001b[33mf\u001b[39m\u001b[33m\"\u001b[39m\u001b[33mGot unexpected return type when tracing function to jaxpr: \u001b[39m\u001b[38;5;132;01m{\u001b[39;00mans\u001b[38;5;132;01m}\u001b[39;00m\u001b[33m\"\u001b[39m)\n",
      "\u001b[36mFile \u001b[39m\u001b[32m~/.pyenv/versions/anaconda3-2024.10-1/envs/pdu_fit/lib/python3.13/site-packages/jax/_src/api_util.py:73\u001b[39m, in \u001b[36mflatten_fun\u001b[39m\u001b[34m(f, store, in_tree, *args_flat)\u001b[39m\n\u001b[32m     69\u001b[39m \u001b[38;5;129m@lu\u001b[39m.transformation_with_aux2\n\u001b[32m     70\u001b[39m \u001b[38;5;28;01mdef\u001b[39;00m\u001b[38;5;250m \u001b[39m\u001b[34mflatten_fun\u001b[39m(f: Callable, store: lu.Store,\n\u001b[32m     71\u001b[39m                 in_tree: PyTreeDef, *args_flat):\n\u001b[32m     72\u001b[39m   py_args, py_kwargs = tree_unflatten(in_tree, args_flat)\n\u001b[32m---> \u001b[39m\u001b[32m73\u001b[39m   ans = \u001b[43mf\u001b[49m\u001b[43m(\u001b[49m\u001b[43m*\u001b[49m\u001b[43mpy_args\u001b[49m\u001b[43m,\u001b[49m\u001b[43m \u001b[49m\u001b[43m*\u001b[49m\u001b[43m*\u001b[49m\u001b[43mpy_kwargs\u001b[49m\u001b[43m)\u001b[49m\n\u001b[32m     74\u001b[39m   ans, out_tree = tree_flatten(ans)\n\u001b[32m     75\u001b[39m   store.store(out_tree)\n",
      "\u001b[36mFile \u001b[39m\u001b[32m~/.pyenv/versions/anaconda3-2024.10-1/envs/pdu_fit/lib/python3.13/site-packages/jax/_src/interpreters/ad.py:80\u001b[39m, in \u001b[36mjvpfun\u001b[39m\u001b[34m(f, instantiate, transform_stack, primals, tangents)\u001b[39m\n\u001b[32m     77\u001b[39m ctx = (source_info_util.transform_name_stack(\u001b[33m'\u001b[39m\u001b[33mjvp\u001b[39m\u001b[33m'\u001b[39m) \u001b[38;5;28;01mif\u001b[39;00m transform_stack\n\u001b[32m     78\u001b[39m        \u001b[38;5;28;01melse\u001b[39;00m contextlib.nullcontext())\n\u001b[32m     79\u001b[39m \u001b[38;5;28;01mwith\u001b[39;00m ctx:\n\u001b[32m---> \u001b[39m\u001b[32m80\u001b[39m   out_primals, out_tangents = \u001b[43mf\u001b[49m\u001b[43m(\u001b[49m\u001b[43mtag\u001b[49m\u001b[43m,\u001b[49m\u001b[43m \u001b[49m\u001b[43mprimals\u001b[49m\u001b[43m,\u001b[49m\u001b[43m \u001b[49m\u001b[43mtangents\u001b[49m\u001b[43m)\u001b[49m\n\u001b[32m     81\u001b[39m \u001b[38;5;28;01mif\u001b[39;00m \u001b[38;5;28mtype\u001b[39m(instantiate) \u001b[38;5;129;01mis\u001b[39;00m \u001b[38;5;28mbool\u001b[39m:\n\u001b[32m     82\u001b[39m   instantiate = [instantiate] * \u001b[38;5;28mlen\u001b[39m(out_tangents)\n",
      "\u001b[36mFile \u001b[39m\u001b[32m~/.pyenv/versions/anaconda3-2024.10-1/envs/pdu_fit/lib/python3.13/site-packages/jax/_src/interpreters/ad.py:133\u001b[39m, in \u001b[36mjvp_subtrace\u001b[39m\u001b[34m(f, tag, primals, tangents)\u001b[39m\n\u001b[32m    130\u001b[39m   in_tracers = [maybe_jvp_tracer(trace, x, t)\n\u001b[32m    131\u001b[39m                 \u001b[38;5;28;01mfor\u001b[39;00m x, t \u001b[38;5;129;01min\u001b[39;00m \u001b[38;5;28mzip\u001b[39m(primals, tangents)]\n\u001b[32m    132\u001b[39m   \u001b[38;5;28;01mwith\u001b[39;00m core.set_current_trace(trace):\n\u001b[32m--> \u001b[39m\u001b[32m133\u001b[39m     ans = \u001b[43mf\u001b[49m\u001b[43m(\u001b[49m\u001b[43m*\u001b[49m\u001b[43min_tracers\u001b[49m\u001b[43m)\u001b[49m\n\u001b[32m    134\u001b[39m   out = unzip2(\u001b[38;5;28mmap\u001b[39m(trace.to_primal_tangent_pair, ans))\n\u001b[32m    135\u001b[39m \u001b[38;5;28;01mreturn\u001b[39;00m out\n",
      "\u001b[36mFile \u001b[39m\u001b[32m~/.pyenv/versions/anaconda3-2024.10-1/envs/pdu_fit/lib/python3.13/site-packages/jax/_src/api_util.py:90\u001b[39m, in \u001b[36mflatten_fun_nokwargs\u001b[39m\u001b[34m(f, store, in_tree, *args_flat)\u001b[39m\n\u001b[32m     86\u001b[39m \u001b[38;5;129m@lu\u001b[39m.transformation_with_aux2\n\u001b[32m     87\u001b[39m \u001b[38;5;28;01mdef\u001b[39;00m\u001b[38;5;250m \u001b[39m\u001b[34mflatten_fun_nokwargs\u001b[39m(f: Callable, store: lu.Store,\n\u001b[32m     88\u001b[39m                          in_tree: PyTreeDef, *args_flat):\n\u001b[32m     89\u001b[39m   py_args = tree_unflatten(in_tree, args_flat)\n\u001b[32m---> \u001b[39m\u001b[32m90\u001b[39m   ans = \u001b[43mf\u001b[49m\u001b[43m(\u001b[49m\u001b[43m*\u001b[49m\u001b[43mpy_args\u001b[49m\u001b[43m)\u001b[49m\n\u001b[32m     91\u001b[39m   ans, out_tree = tree_flatten(ans)\n\u001b[32m     92\u001b[39m   store.store(out_tree)\n",
      "\u001b[36mFile \u001b[39m\u001b[32m~/.pyenv/versions/anaconda3-2024.10-1/envs/pdu_fit/lib/python3.13/site-packages/jax/_src/api_util.py:284\u001b[39m, in \u001b[36m_argnums_partial\u001b[39m\u001b[34m(_fun, _dyn_argnums, _fixed_args, *dyn_args, **kwargs)\u001b[39m\n\u001b[32m    282\u001b[39m args = [\u001b[38;5;28mnext\u001b[39m(fixed_args_).val \u001b[38;5;28;01mif\u001b[39;00m x \u001b[38;5;129;01mis\u001b[39;00m sentinel \u001b[38;5;28;01melse\u001b[39;00m x \u001b[38;5;28;01mfor\u001b[39;00m x \u001b[38;5;129;01min\u001b[39;00m args]\n\u001b[32m    283\u001b[39m \u001b[38;5;28;01massert\u001b[39;00m \u001b[38;5;28mnext\u001b[39m(fixed_args_, sentinel) \u001b[38;5;129;01mis\u001b[39;00m sentinel\n\u001b[32m--> \u001b[39m\u001b[32m284\u001b[39m \u001b[38;5;28;01mreturn\u001b[39;00m \u001b[43m_fun\u001b[49m\u001b[43m(\u001b[49m\u001b[43m*\u001b[49m\u001b[43margs\u001b[49m\u001b[43m,\u001b[49m\u001b[43m \u001b[49m\u001b[43m*\u001b[49m\u001b[43m*\u001b[49m\u001b[43mkwargs\u001b[49m\u001b[43m)\u001b[49m\n",
      "\u001b[36mFile \u001b[39m\u001b[32m~/.pyenv/versions/anaconda3-2024.10-1/envs/pdu_fit/lib/python3.13/site-packages/jax/_src/linear_util.py:388\u001b[39m, in \u001b[36m_get_result_paths_thunk\u001b[39m\u001b[34m(_fun, _store, *args, **kwargs)\u001b[39m\n\u001b[32m    386\u001b[39m \u001b[38;5;129m@transformation_with_aux2\u001b[39m\n\u001b[32m    387\u001b[39m \u001b[38;5;28;01mdef\u001b[39;00m\u001b[38;5;250m \u001b[39m\u001b[34m_get_result_paths_thunk\u001b[39m(_fun: Callable, _store: Store, *args, **kwargs):\n\u001b[32m--> \u001b[39m\u001b[32m388\u001b[39m   ans = \u001b[43m_fun\u001b[49m\u001b[43m(\u001b[49m\u001b[43m*\u001b[49m\u001b[43margs\u001b[49m\u001b[43m,\u001b[49m\u001b[43m \u001b[49m\u001b[43m*\u001b[49m\u001b[43m*\u001b[49m\u001b[43mkwargs\u001b[49m\u001b[43m)\u001b[49m\n\u001b[32m    389\u001b[39m   result_paths = \u001b[38;5;28mtuple\u001b[39m(\u001b[33mf\u001b[39m\u001b[33m\"\u001b[39m\u001b[33mresult\u001b[39m\u001b[38;5;132;01m{\u001b[39;00m_clean_keystr_arg_names(path)\u001b[38;5;132;01m}\u001b[39;00m\u001b[33m\"\u001b[39m \u001b[38;5;28;01mfor\u001b[39;00m path, _ \u001b[38;5;129;01min\u001b[39;00m generate_key_paths(ans))\n\u001b[32m    390\u001b[39m   \u001b[38;5;28;01mif\u001b[39;00m _store:\n\u001b[32m    391\u001b[39m     \u001b[38;5;66;03m# In some instances a lu.WrappedFun is called multiple times, e.g.,\u001b[39;00m\n\u001b[32m    392\u001b[39m     \u001b[38;5;66;03m# the bwd function in a custom_vjp\u001b[39;00m\n",
      "\u001b[36mCell\u001b[39m\u001b[36m \u001b[39m\u001b[32mIn[5]\u001b[39m\u001b[32m, line 3\u001b[39m, in \u001b[36m<lambda>\u001b[39m\u001b[34m(p)\u001b[39m\n\u001b[32m      1\u001b[39m \u001b[38;5;28;01mfrom\u001b[39;00m\u001b[38;5;250m \u001b[39m\u001b[34;01mrun_adam_tune\u001b[39;00m\u001b[38;5;250m \u001b[39m\u001b[38;5;28;01mimport\u001b[39;00m run_adam_loop, batch_run_adam\n\u001b[32m----> \u001b[39m\u001b[32m3\u001b[39m obj = \u001b[38;5;28;01mlambda\u001b[39;00m p : \u001b[43mobjective\u001b[49m\u001b[43m(\u001b[49m\u001b[43mloss_fn\u001b[49m\u001b[43m,\u001b[49m\u001b[43m \u001b[49m\u001b[43mp\u001b[49m\u001b[43m,\u001b[49m\u001b[43m \u001b[49m\u001b[43my_out_sim\u001b[49m\u001b[43m,\u001b[49m\u001b[43m \u001b[49m\u001b[43mt_out\u001b[49m\u001b[43m,\u001b[49m\u001b[43m \u001b[49m\u001b[43mdt\u001b[49m\u001b[43m,\u001b[49m\u001b[43m \u001b[49m\u001b[43mdata_ICs\u001b[49m\u001b[43m,\u001b[49m\u001b[43m \u001b[49m\u001b[43mKO\u001b[49m\u001b[43m)\u001b[49m\n\u001b[32m      5\u001b[39m \u001b[38;5;66;03m#batch_run_adam(jnp.array([1.01*params, 1.0001*params, 2*params]), 1e-3, .9, .999, 100, obj)\u001b[39;00m\n",
      "    \u001b[31m[... skipping hidden 21 frame]\u001b[39m\n",
      "\u001b[36mFile \u001b[39m\u001b[32m~/.pyenv/versions/anaconda3-2024.10-1/envs/pdu_fit/lib/python3.13/site-packages/jax/_src/interpreters/pxla.py:1288\u001b[39m, in \u001b[36mExecuteReplicated.__call__\u001b[39m\u001b[34m(self, *args)\u001b[39m\n\u001b[32m   1285\u001b[39m \u001b[38;5;28;01mif\u001b[39;00m (\u001b[38;5;28mself\u001b[39m.ordered_effects \u001b[38;5;129;01mor\u001b[39;00m \u001b[38;5;28mself\u001b[39m.has_unordered_effects\n\u001b[32m   1286\u001b[39m     \u001b[38;5;129;01mor\u001b[39;00m \u001b[38;5;28mself\u001b[39m.has_host_callbacks):\n\u001b[32m   1287\u001b[39m   input_bufs = \u001b[38;5;28mself\u001b[39m._add_tokens_to_inputs(input_bufs)\n\u001b[32m-> \u001b[39m\u001b[32m1288\u001b[39m   results = \u001b[38;5;28;43mself\u001b[39;49m\u001b[43m.\u001b[49m\u001b[43mxla_executable\u001b[49m\u001b[43m.\u001b[49m\u001b[43mexecute_sharded\u001b[49m\u001b[43m(\u001b[49m\n\u001b[32m   1289\u001b[39m \u001b[43m      \u001b[49m\u001b[43minput_bufs\u001b[49m\u001b[43m,\u001b[49m\u001b[43m \u001b[49m\u001b[43mwith_tokens\u001b[49m\u001b[43m=\u001b[49m\u001b[38;5;28;43;01mTrue\u001b[39;49;00m\n\u001b[32m   1290\u001b[39m \u001b[43m  \u001b[49m\u001b[43m)\u001b[49m\n\u001b[32m   1292\u001b[39m   result_token_bufs = results.disassemble_prefix_into_single_device_arrays(\n\u001b[32m   1293\u001b[39m       \u001b[38;5;28mlen\u001b[39m(\u001b[38;5;28mself\u001b[39m.ordered_effects))\n\u001b[32m   1294\u001b[39m   sharded_runtime_token = results.consume_token()\n",
      "\u001b[31mXlaRuntimeError\u001b[39m: INTERNAL: CpuCallback error: Traceback (most recent call last):\n  File \"/Users/ccat/.pyenv/versions/anaconda3-2024.10-1/envs/pdu_fit/lib/python3.13/site-packages/jax/_src/callback.py\", line 778, in _wrapped_callback\n  File \"/Users/ccat/.pyenv/versions/anaconda3-2024.10-1/envs/pdu_fit/lib/python3.13/site-packages/jax/_src/callback.py\", line 224, in _callback\n  File \"/Users/ccat/.pyenv/versions/anaconda3-2024.10-1/envs/pdu_fit/lib/python3.13/site-packages/jax/_src/callback.py\", line 103, in pure_callback_impl\n  File \"/Users/ccat/.pyenv/versions/anaconda3-2024.10-1/envs/pdu_fit/lib/python3.13/site-packages/jax/_src/callback.py\", line 77, in __call__\n  File \"/Users/ccat/.pyenv/versions/anaconda3-2024.10-1/envs/pdu_fit/lib/python3.13/site-packages/equinox/_errors.py\", line 89, in raises\n_EquinoxRuntimeError: The maximum number of solver steps was reached. Try increasing `max_steps`.\n\n\n--------------------\nAn error occurred during the runtime of your JAX program! Unfortunately you do not appear to be using `equinox.filter_jit` (perhaps you are using `jax.jit` instead?) and so further information about the error cannot be displayed. (Probably you are seeing a very large but uninformative error message right now.) Please wrap your program with `equinox.filter_jit`.\n--------------------\n"
     ]
    }
   ],
   "source": [
    "jax.jacobian(obj)(J)"
   ]
  },
  {
   "cell_type": "code",
   "execution_count": 14,
   "metadata": {},
   "outputs": [],
   "source": [
    "objective_fn = lambda x: jnp.sum((x - 1.0)**2)\n",
    "hessian_fn = jax.jacobian(jax.grad(objective_fn))\n",
    "hess = hessian_fn(jnp.array([1.0, 2.0, 3.0]))\n"
   ]
  },
  {
   "cell_type": "code",
   "execution_count": 16,
   "metadata": {},
   "outputs": [
    {
     "data": {
      "text/plain": [
       "Array(5., dtype=float64)"
      ]
     },
     "execution_count": 16,
     "metadata": {},
     "output_type": "execute_result"
    }
   ],
   "source": [
    "objective_fn(jnp.array([1.0, 2.0, 3.0]))"
   ]
  }
 ],
 "metadata": {
  "kernelspec": {
   "display_name": "pdu_fit",
   "language": "python",
   "name": "python3"
  },
  "language_info": {
   "codemirror_mode": {
    "name": "ipython",
    "version": 3
   },
   "file_extension": ".py",
   "mimetype": "text/x-python",
   "name": "python",
   "nbconvert_exporter": "python",
   "pygments_lexer": "ipython3",
   "version": "3.13.2"
  }
 },
 "nbformat": 4,
 "nbformat_minor": 2
}
