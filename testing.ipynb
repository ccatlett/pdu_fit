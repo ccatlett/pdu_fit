{
 "cells": [
  {
   "cell_type": "code",
   "execution_count": 2,
   "metadata": {},
   "outputs": [],
   "source": [
    "import jax \n",
    "import scipy\n",
    "import jax.numpy as jnp\n",
    "import diffrax as dfx\n",
    "import optax as opx"
   ]
  },
  {
   "cell_type": "code",
   "execution_count": 3,
   "metadata": {},
   "outputs": [],
   "source": [
    "from simulate import generate_y0, simulate_pdu, measure_pdu\n",
    "from pdu_rhs import V_RATIO\n",
    "import numpy as np\n",
    "\n",
    "data_ICs = jnp.array([80, 0, 0, 0]) \n",
    "params = jnp.array([.5, .4, .8, .9, .6])\n",
    "y0 = generate_y0(params, data_ICs)\n",
    "\n",
    "t0 = 0.0\n",
    "t1 = 10.0*3600\n",
    "dt = 1e-2\n",
    "\n",
    "params = jnp.array([ .5, .4, .8, 1e8, 40, \\\n",
    "1e3, -3000, 100, 50, 200, 140, \\\n",
    "1e4, -5000, 40, 10, 100, 70, \\\n",
    "1e9,  -10000, 50, 85, \\\n",
    "1e9, -10000, 10, 100, \\\n",
    "-5, -6, \\\n",
    "-4, 1.2*V_RATIO])\n",
    "\n",
    "t_out, y_out = measure_pdu(simulate_pdu(params, y0, t0, t1, dt))\n",
    "y_out_sim = y_out + np.random.normal(0, 1, y_out.shape)"
   ]
  },
  {
   "cell_type": "code",
   "execution_count": 16,
   "metadata": {},
   "outputs": [
    {
     "data": {
      "text/plain": [
       "Array(1.03745622, dtype=float64)"
      ]
     },
     "execution_count": 16,
     "metadata": {},
     "output_type": "execute_result"
    }
   ],
   "source": [
    "np.mean((y_out_sim - y_out)**2)"
   ]
  },
  {
   "cell_type": "code",
   "execution_count": 20,
   "metadata": {},
   "outputs": [
    {
     "data": {
      "text/plain": [
       "Array(2119.10429785, dtype=float64)"
      ]
     },
     "execution_count": 20,
     "metadata": {},
     "output_type": "execute_result"
    }
   ],
   "source": [
    "from objective import construct_loss, parameterize_loss\n",
    "\n",
    "options = {\"loss_fn\": \"L2\",\n",
    "           \"t_weight\": \"inv_stepsize\",\n",
    "           \"weight\": \"max_relative_scale\",\n",
    "           }\n",
    "\n",
    "loss_fn = construct_loss(options)\n",
    "loss_fn = parameterize_loss(y_out, t_out, loss_fn)\n",
    "\n",
    "loss_fn(y_out, y_out_sim)"
   ]
  }
 ],
 "metadata": {
  "kernelspec": {
   "display_name": "pdu_fit",
   "language": "python",
   "name": "python3"
  },
  "language_info": {
   "codemirror_mode": {
    "name": "ipython",
    "version": 3
   },
   "file_extension": ".py",
   "mimetype": "text/x-python",
   "name": "python",
   "nbconvert_exporter": "python",
   "pygments_lexer": "ipython3",
   "version": "3.13.2"
  }
 },
 "nbformat": 4,
 "nbformat_minor": 2
}
